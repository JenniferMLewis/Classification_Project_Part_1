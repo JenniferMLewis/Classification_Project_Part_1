{
 "cells": [
  {
   "cell_type": "code",
   "execution_count": 196,
   "metadata": {},
   "outputs": [],
   "source": [
    "import acquire\n",
    "import prepare\n",
    "import pandas as pd\n",
    "import seaborn as sns\n",
    "import matplotlib.pyplot as plt\n",
    "import sklearn.metrics as met\n",
    "from sklearn.tree import DecisionTreeClassifier, plot_tree\n",
    "from sklearn.ensemble import RandomForestClassifier\n",
    "from sklearn.linear_model import LogisticRegression\n",
    "from sklearn.metrics import confusion_matrix, classification_report\n",
    "from sklearn.neighbors import KNeighborsClassifier"
   ]
  },
  {
   "cell_type": "code",
   "execution_count": 197,
   "metadata": {},
   "outputs": [],
   "source": [
    "df = acquire.get_telco_data()"
   ]
  },
  {
   "cell_type": "code",
   "execution_count": 198,
   "metadata": {},
   "outputs": [],
   "source": [
    "df = prepare.prep_telco(df)"
   ]
  },
  {
   "cell_type": "code",
   "execution_count": 199,
   "metadata": {},
   "outputs": [
    {
     "data": {
      "text/html": [
       "<div>\n",
       "<style scoped>\n",
       "    .dataframe tbody tr th:only-of-type {\n",
       "        vertical-align: middle;\n",
       "    }\n",
       "\n",
       "    .dataframe tbody tr th {\n",
       "        vertical-align: top;\n",
       "    }\n",
       "\n",
       "    .dataframe thead th {\n",
       "        text-align: right;\n",
       "    }\n",
       "</style>\n",
       "<table border=\"1\" class=\"dataframe\">\n",
       "  <thead>\n",
       "    <tr style=\"text-align: right;\">\n",
       "      <th></th>\n",
       "      <th>count</th>\n",
       "      <th>mean</th>\n",
       "      <th>std</th>\n",
       "      <th>min</th>\n",
       "      <th>25%</th>\n",
       "      <th>50%</th>\n",
       "      <th>75%</th>\n",
       "      <th>max</th>\n",
       "      <th>range</th>\n",
       "    </tr>\n",
       "  </thead>\n",
       "  <tbody>\n",
       "    <tr>\n",
       "      <th>internet_service_type_id</th>\n",
       "      <td>7032.0</td>\n",
       "      <td>1.872582</td>\n",
       "      <td>0.737271</td>\n",
       "      <td>1.00</td>\n",
       "      <td>1.0000</td>\n",
       "      <td>2.000</td>\n",
       "      <td>2.0000</td>\n",
       "      <td>3.00</td>\n",
       "      <td>2.0</td>\n",
       "    </tr>\n",
       "    <tr>\n",
       "      <th>payment_type_id</th>\n",
       "      <td>7032.0</td>\n",
       "      <td>2.315557</td>\n",
       "      <td>1.149523</td>\n",
       "      <td>1.00</td>\n",
       "      <td>1.0000</td>\n",
       "      <td>2.000</td>\n",
       "      <td>3.0000</td>\n",
       "      <td>4.00</td>\n",
       "      <td>3.0</td>\n",
       "    </tr>\n",
       "    <tr>\n",
       "      <th>contract_type_id</th>\n",
       "      <td>7032.0</td>\n",
       "      <td>1.688567</td>\n",
       "      <td>0.832934</td>\n",
       "      <td>1.00</td>\n",
       "      <td>1.0000</td>\n",
       "      <td>1.000</td>\n",
       "      <td>2.0000</td>\n",
       "      <td>3.00</td>\n",
       "      <td>2.0</td>\n",
       "    </tr>\n",
       "    <tr>\n",
       "      <th>senior_citizen</th>\n",
       "      <td>7032.0</td>\n",
       "      <td>0.162400</td>\n",
       "      <td>0.368844</td>\n",
       "      <td>0.00</td>\n",
       "      <td>0.0000</td>\n",
       "      <td>0.000</td>\n",
       "      <td>0.0000</td>\n",
       "      <td>1.00</td>\n",
       "      <td>1.0</td>\n",
       "    </tr>\n",
       "    <tr>\n",
       "      <th>tenure</th>\n",
       "      <td>7032.0</td>\n",
       "      <td>32.421786</td>\n",
       "      <td>24.545260</td>\n",
       "      <td>1.00</td>\n",
       "      <td>9.0000</td>\n",
       "      <td>29.000</td>\n",
       "      <td>55.0000</td>\n",
       "      <td>72.00</td>\n",
       "      <td>71.0</td>\n",
       "    </tr>\n",
       "    <tr>\n",
       "      <th>monthly_charges</th>\n",
       "      <td>7032.0</td>\n",
       "      <td>64.798208</td>\n",
       "      <td>30.085974</td>\n",
       "      <td>18.25</td>\n",
       "      <td>35.5875</td>\n",
       "      <td>70.350</td>\n",
       "      <td>89.8625</td>\n",
       "      <td>118.75</td>\n",
       "      <td>100.5</td>\n",
       "    </tr>\n",
       "    <tr>\n",
       "      <th>total_charges</th>\n",
       "      <td>7032.0</td>\n",
       "      <td>2283.300441</td>\n",
       "      <td>2266.771362</td>\n",
       "      <td>18.80</td>\n",
       "      <td>401.4500</td>\n",
       "      <td>1397.475</td>\n",
       "      <td>3794.7375</td>\n",
       "      <td>8684.80</td>\n",
       "      <td>8666.0</td>\n",
       "    </tr>\n",
       "    <tr>\n",
       "      <th>gender_encoded</th>\n",
       "      <td>7032.0</td>\n",
       "      <td>0.495307</td>\n",
       "      <td>0.500014</td>\n",
       "      <td>0.00</td>\n",
       "      <td>0.0000</td>\n",
       "      <td>0.000</td>\n",
       "      <td>1.0000</td>\n",
       "      <td>1.00</td>\n",
       "      <td>1.0</td>\n",
       "    </tr>\n",
       "    <tr>\n",
       "      <th>partner_encoded</th>\n",
       "      <td>7032.0</td>\n",
       "      <td>0.482509</td>\n",
       "      <td>0.499729</td>\n",
       "      <td>0.00</td>\n",
       "      <td>0.0000</td>\n",
       "      <td>0.000</td>\n",
       "      <td>1.0000</td>\n",
       "      <td>1.00</td>\n",
       "      <td>1.0</td>\n",
       "    </tr>\n",
       "    <tr>\n",
       "      <th>dependents_encoded</th>\n",
       "      <td>7032.0</td>\n",
       "      <td>0.298493</td>\n",
       "      <td>0.457629</td>\n",
       "      <td>0.00</td>\n",
       "      <td>0.0000</td>\n",
       "      <td>0.000</td>\n",
       "      <td>1.0000</td>\n",
       "      <td>1.00</td>\n",
       "      <td>1.0</td>\n",
       "    </tr>\n",
       "    <tr>\n",
       "      <th>phone_service_encoded</th>\n",
       "      <td>7032.0</td>\n",
       "      <td>0.903299</td>\n",
       "      <td>0.295571</td>\n",
       "      <td>0.00</td>\n",
       "      <td>1.0000</td>\n",
       "      <td>1.000</td>\n",
       "      <td>1.0000</td>\n",
       "      <td>1.00</td>\n",
       "      <td>1.0</td>\n",
       "    </tr>\n",
       "    <tr>\n",
       "      <th>paperless_billing_encoded</th>\n",
       "      <td>7032.0</td>\n",
       "      <td>0.592719</td>\n",
       "      <td>0.491363</td>\n",
       "      <td>0.00</td>\n",
       "      <td>0.0000</td>\n",
       "      <td>1.000</td>\n",
       "      <td>1.0000</td>\n",
       "      <td>1.00</td>\n",
       "      <td>1.0</td>\n",
       "    </tr>\n",
       "    <tr>\n",
       "      <th>churn</th>\n",
       "      <td>7032.0</td>\n",
       "      <td>0.265785</td>\n",
       "      <td>0.441782</td>\n",
       "      <td>0.00</td>\n",
       "      <td>0.0000</td>\n",
       "      <td>0.000</td>\n",
       "      <td>1.0000</td>\n",
       "      <td>1.00</td>\n",
       "      <td>1.0</td>\n",
       "    </tr>\n",
       "    <tr>\n",
       "      <th>multiple_lines_No phone service</th>\n",
       "      <td>7032.0</td>\n",
       "      <td>0.096701</td>\n",
       "      <td>0.295571</td>\n",
       "      <td>0.00</td>\n",
       "      <td>0.0000</td>\n",
       "      <td>0.000</td>\n",
       "      <td>0.0000</td>\n",
       "      <td>1.00</td>\n",
       "      <td>1.0</td>\n",
       "    </tr>\n",
       "    <tr>\n",
       "      <th>multiple_lines_Yes</th>\n",
       "      <td>7032.0</td>\n",
       "      <td>0.421928</td>\n",
       "      <td>0.493902</td>\n",
       "      <td>0.00</td>\n",
       "      <td>0.0000</td>\n",
       "      <td>0.000</td>\n",
       "      <td>1.0000</td>\n",
       "      <td>1.00</td>\n",
       "      <td>1.0</td>\n",
       "    </tr>\n",
       "    <tr>\n",
       "      <th>online_security_No internet service</th>\n",
       "      <td>7032.0</td>\n",
       "      <td>0.216155</td>\n",
       "      <td>0.411650</td>\n",
       "      <td>0.00</td>\n",
       "      <td>0.0000</td>\n",
       "      <td>0.000</td>\n",
       "      <td>0.0000</td>\n",
       "      <td>1.00</td>\n",
       "      <td>1.0</td>\n",
       "    </tr>\n",
       "    <tr>\n",
       "      <th>online_security_Yes</th>\n",
       "      <td>7032.0</td>\n",
       "      <td>0.286547</td>\n",
       "      <td>0.452180</td>\n",
       "      <td>0.00</td>\n",
       "      <td>0.0000</td>\n",
       "      <td>0.000</td>\n",
       "      <td>1.0000</td>\n",
       "      <td>1.00</td>\n",
       "      <td>1.0</td>\n",
       "    </tr>\n",
       "    <tr>\n",
       "      <th>online_backup_No internet service</th>\n",
       "      <td>7032.0</td>\n",
       "      <td>0.216155</td>\n",
       "      <td>0.411650</td>\n",
       "      <td>0.00</td>\n",
       "      <td>0.0000</td>\n",
       "      <td>0.000</td>\n",
       "      <td>0.0000</td>\n",
       "      <td>1.00</td>\n",
       "      <td>1.0</td>\n",
       "    </tr>\n",
       "    <tr>\n",
       "      <th>online_backup_Yes</th>\n",
       "      <td>7032.0</td>\n",
       "      <td>0.344852</td>\n",
       "      <td>0.475354</td>\n",
       "      <td>0.00</td>\n",
       "      <td>0.0000</td>\n",
       "      <td>0.000</td>\n",
       "      <td>1.0000</td>\n",
       "      <td>1.00</td>\n",
       "      <td>1.0</td>\n",
       "    </tr>\n",
       "    <tr>\n",
       "      <th>device_protection_No internet service</th>\n",
       "      <td>7032.0</td>\n",
       "      <td>0.216155</td>\n",
       "      <td>0.411650</td>\n",
       "      <td>0.00</td>\n",
       "      <td>0.0000</td>\n",
       "      <td>0.000</td>\n",
       "      <td>0.0000</td>\n",
       "      <td>1.00</td>\n",
       "      <td>1.0</td>\n",
       "    </tr>\n",
       "    <tr>\n",
       "      <th>device_protection_Yes</th>\n",
       "      <td>7032.0</td>\n",
       "      <td>0.343857</td>\n",
       "      <td>0.475028</td>\n",
       "      <td>0.00</td>\n",
       "      <td>0.0000</td>\n",
       "      <td>0.000</td>\n",
       "      <td>1.0000</td>\n",
       "      <td>1.00</td>\n",
       "      <td>1.0</td>\n",
       "    </tr>\n",
       "    <tr>\n",
       "      <th>tech_support_No internet service</th>\n",
       "      <td>7032.0</td>\n",
       "      <td>0.216155</td>\n",
       "      <td>0.411650</td>\n",
       "      <td>0.00</td>\n",
       "      <td>0.0000</td>\n",
       "      <td>0.000</td>\n",
       "      <td>0.0000</td>\n",
       "      <td>1.00</td>\n",
       "      <td>1.0</td>\n",
       "    </tr>\n",
       "    <tr>\n",
       "      <th>tech_support_Yes</th>\n",
       "      <td>7032.0</td>\n",
       "      <td>0.290102</td>\n",
       "      <td>0.453842</td>\n",
       "      <td>0.00</td>\n",
       "      <td>0.0000</td>\n",
       "      <td>0.000</td>\n",
       "      <td>1.0000</td>\n",
       "      <td>1.00</td>\n",
       "      <td>1.0</td>\n",
       "    </tr>\n",
       "    <tr>\n",
       "      <th>streaming_tv_No internet service</th>\n",
       "      <td>7032.0</td>\n",
       "      <td>0.216155</td>\n",
       "      <td>0.411650</td>\n",
       "      <td>0.00</td>\n",
       "      <td>0.0000</td>\n",
       "      <td>0.000</td>\n",
       "      <td>0.0000</td>\n",
       "      <td>1.00</td>\n",
       "      <td>1.0</td>\n",
       "    </tr>\n",
       "    <tr>\n",
       "      <th>streaming_tv_Yes</th>\n",
       "      <td>7032.0</td>\n",
       "      <td>0.384386</td>\n",
       "      <td>0.486484</td>\n",
       "      <td>0.00</td>\n",
       "      <td>0.0000</td>\n",
       "      <td>0.000</td>\n",
       "      <td>1.0000</td>\n",
       "      <td>1.00</td>\n",
       "      <td>1.0</td>\n",
       "    </tr>\n",
       "    <tr>\n",
       "      <th>streaming_movies_No internet service</th>\n",
       "      <td>7032.0</td>\n",
       "      <td>0.216155</td>\n",
       "      <td>0.411650</td>\n",
       "      <td>0.00</td>\n",
       "      <td>0.0000</td>\n",
       "      <td>0.000</td>\n",
       "      <td>0.0000</td>\n",
       "      <td>1.00</td>\n",
       "      <td>1.0</td>\n",
       "    </tr>\n",
       "    <tr>\n",
       "      <th>streaming_movies_Yes</th>\n",
       "      <td>7032.0</td>\n",
       "      <td>0.388367</td>\n",
       "      <td>0.487414</td>\n",
       "      <td>0.00</td>\n",
       "      <td>0.0000</td>\n",
       "      <td>0.000</td>\n",
       "      <td>1.0000</td>\n",
       "      <td>1.00</td>\n",
       "      <td>1.0</td>\n",
       "    </tr>\n",
       "    <tr>\n",
       "      <th>contract_type_One year</th>\n",
       "      <td>7032.0</td>\n",
       "      <td>0.209329</td>\n",
       "      <td>0.406858</td>\n",
       "      <td>0.00</td>\n",
       "      <td>0.0000</td>\n",
       "      <td>0.000</td>\n",
       "      <td>0.0000</td>\n",
       "      <td>1.00</td>\n",
       "      <td>1.0</td>\n",
       "    </tr>\n",
       "    <tr>\n",
       "      <th>contract_type_Two year</th>\n",
       "      <td>7032.0</td>\n",
       "      <td>0.239619</td>\n",
       "      <td>0.426881</td>\n",
       "      <td>0.00</td>\n",
       "      <td>0.0000</td>\n",
       "      <td>0.000</td>\n",
       "      <td>0.0000</td>\n",
       "      <td>1.00</td>\n",
       "      <td>1.0</td>\n",
       "    </tr>\n",
       "    <tr>\n",
       "      <th>internet_service_type_Fiber optic</th>\n",
       "      <td>7032.0</td>\n",
       "      <td>0.440273</td>\n",
       "      <td>0.496455</td>\n",
       "      <td>0.00</td>\n",
       "      <td>0.0000</td>\n",
       "      <td>0.000</td>\n",
       "      <td>1.0000</td>\n",
       "      <td>1.00</td>\n",
       "      <td>1.0</td>\n",
       "    </tr>\n",
       "    <tr>\n",
       "      <th>internet_service_type_None</th>\n",
       "      <td>7032.0</td>\n",
       "      <td>0.216155</td>\n",
       "      <td>0.411650</td>\n",
       "      <td>0.00</td>\n",
       "      <td>0.0000</td>\n",
       "      <td>0.000</td>\n",
       "      <td>0.0000</td>\n",
       "      <td>1.00</td>\n",
       "      <td>1.0</td>\n",
       "    </tr>\n",
       "    <tr>\n",
       "      <th>payment_type_Credit card (automatic)</th>\n",
       "      <td>7032.0</td>\n",
       "      <td>0.216297</td>\n",
       "      <td>0.411748</td>\n",
       "      <td>0.00</td>\n",
       "      <td>0.0000</td>\n",
       "      <td>0.000</td>\n",
       "      <td>0.0000</td>\n",
       "      <td>1.00</td>\n",
       "      <td>1.0</td>\n",
       "    </tr>\n",
       "    <tr>\n",
       "      <th>payment_type_Electronic check</th>\n",
       "      <td>7032.0</td>\n",
       "      <td>0.336320</td>\n",
       "      <td>0.472483</td>\n",
       "      <td>0.00</td>\n",
       "      <td>0.0000</td>\n",
       "      <td>0.000</td>\n",
       "      <td>1.0000</td>\n",
       "      <td>1.00</td>\n",
       "      <td>1.0</td>\n",
       "    </tr>\n",
       "    <tr>\n",
       "      <th>payment_type_Mailed check</th>\n",
       "      <td>7032.0</td>\n",
       "      <td>0.228100</td>\n",
       "      <td>0.419637</td>\n",
       "      <td>0.00</td>\n",
       "      <td>0.0000</td>\n",
       "      <td>0.000</td>\n",
       "      <td>0.0000</td>\n",
       "      <td>1.00</td>\n",
       "      <td>1.0</td>\n",
       "    </tr>\n",
       "  </tbody>\n",
       "</table>\n",
       "</div>"
      ],
      "text/plain": [
       "                                        count         mean          std  \\\n",
       "internet_service_type_id               7032.0     1.872582     0.737271   \n",
       "payment_type_id                        7032.0     2.315557     1.149523   \n",
       "contract_type_id                       7032.0     1.688567     0.832934   \n",
       "senior_citizen                         7032.0     0.162400     0.368844   \n",
       "tenure                                 7032.0    32.421786    24.545260   \n",
       "monthly_charges                        7032.0    64.798208    30.085974   \n",
       "total_charges                          7032.0  2283.300441  2266.771362   \n",
       "gender_encoded                         7032.0     0.495307     0.500014   \n",
       "partner_encoded                        7032.0     0.482509     0.499729   \n",
       "dependents_encoded                     7032.0     0.298493     0.457629   \n",
       "phone_service_encoded                  7032.0     0.903299     0.295571   \n",
       "paperless_billing_encoded              7032.0     0.592719     0.491363   \n",
       "churn                                  7032.0     0.265785     0.441782   \n",
       "multiple_lines_No phone service        7032.0     0.096701     0.295571   \n",
       "multiple_lines_Yes                     7032.0     0.421928     0.493902   \n",
       "online_security_No internet service    7032.0     0.216155     0.411650   \n",
       "online_security_Yes                    7032.0     0.286547     0.452180   \n",
       "online_backup_No internet service      7032.0     0.216155     0.411650   \n",
       "online_backup_Yes                      7032.0     0.344852     0.475354   \n",
       "device_protection_No internet service  7032.0     0.216155     0.411650   \n",
       "device_protection_Yes                  7032.0     0.343857     0.475028   \n",
       "tech_support_No internet service       7032.0     0.216155     0.411650   \n",
       "tech_support_Yes                       7032.0     0.290102     0.453842   \n",
       "streaming_tv_No internet service       7032.0     0.216155     0.411650   \n",
       "streaming_tv_Yes                       7032.0     0.384386     0.486484   \n",
       "streaming_movies_No internet service   7032.0     0.216155     0.411650   \n",
       "streaming_movies_Yes                   7032.0     0.388367     0.487414   \n",
       "contract_type_One year                 7032.0     0.209329     0.406858   \n",
       "contract_type_Two year                 7032.0     0.239619     0.426881   \n",
       "internet_service_type_Fiber optic      7032.0     0.440273     0.496455   \n",
       "internet_service_type_None             7032.0     0.216155     0.411650   \n",
       "payment_type_Credit card (automatic)   7032.0     0.216297     0.411748   \n",
       "payment_type_Electronic check          7032.0     0.336320     0.472483   \n",
       "payment_type_Mailed check              7032.0     0.228100     0.419637   \n",
       "\n",
       "                                         min       25%       50%        75%  \\\n",
       "internet_service_type_id                1.00    1.0000     2.000     2.0000   \n",
       "payment_type_id                         1.00    1.0000     2.000     3.0000   \n",
       "contract_type_id                        1.00    1.0000     1.000     2.0000   \n",
       "senior_citizen                          0.00    0.0000     0.000     0.0000   \n",
       "tenure                                  1.00    9.0000    29.000    55.0000   \n",
       "monthly_charges                        18.25   35.5875    70.350    89.8625   \n",
       "total_charges                          18.80  401.4500  1397.475  3794.7375   \n",
       "gender_encoded                          0.00    0.0000     0.000     1.0000   \n",
       "partner_encoded                         0.00    0.0000     0.000     1.0000   \n",
       "dependents_encoded                      0.00    0.0000     0.000     1.0000   \n",
       "phone_service_encoded                   0.00    1.0000     1.000     1.0000   \n",
       "paperless_billing_encoded               0.00    0.0000     1.000     1.0000   \n",
       "churn                                   0.00    0.0000     0.000     1.0000   \n",
       "multiple_lines_No phone service         0.00    0.0000     0.000     0.0000   \n",
       "multiple_lines_Yes                      0.00    0.0000     0.000     1.0000   \n",
       "online_security_No internet service     0.00    0.0000     0.000     0.0000   \n",
       "online_security_Yes                     0.00    0.0000     0.000     1.0000   \n",
       "online_backup_No internet service       0.00    0.0000     0.000     0.0000   \n",
       "online_backup_Yes                       0.00    0.0000     0.000     1.0000   \n",
       "device_protection_No internet service   0.00    0.0000     0.000     0.0000   \n",
       "device_protection_Yes                   0.00    0.0000     0.000     1.0000   \n",
       "tech_support_No internet service        0.00    0.0000     0.000     0.0000   \n",
       "tech_support_Yes                        0.00    0.0000     0.000     1.0000   \n",
       "streaming_tv_No internet service        0.00    0.0000     0.000     0.0000   \n",
       "streaming_tv_Yes                        0.00    0.0000     0.000     1.0000   \n",
       "streaming_movies_No internet service    0.00    0.0000     0.000     0.0000   \n",
       "streaming_movies_Yes                    0.00    0.0000     0.000     1.0000   \n",
       "contract_type_One year                  0.00    0.0000     0.000     0.0000   \n",
       "contract_type_Two year                  0.00    0.0000     0.000     0.0000   \n",
       "internet_service_type_Fiber optic       0.00    0.0000     0.000     1.0000   \n",
       "internet_service_type_None              0.00    0.0000     0.000     0.0000   \n",
       "payment_type_Credit card (automatic)    0.00    0.0000     0.000     0.0000   \n",
       "payment_type_Electronic check           0.00    0.0000     0.000     1.0000   \n",
       "payment_type_Mailed check               0.00    0.0000     0.000     0.0000   \n",
       "\n",
       "                                           max   range  \n",
       "internet_service_type_id                  3.00     2.0  \n",
       "payment_type_id                           4.00     3.0  \n",
       "contract_type_id                          3.00     2.0  \n",
       "senior_citizen                            1.00     1.0  \n",
       "tenure                                   72.00    71.0  \n",
       "monthly_charges                         118.75   100.5  \n",
       "total_charges                          8684.80  8666.0  \n",
       "gender_encoded                            1.00     1.0  \n",
       "partner_encoded                           1.00     1.0  \n",
       "dependents_encoded                        1.00     1.0  \n",
       "phone_service_encoded                     1.00     1.0  \n",
       "paperless_billing_encoded                 1.00     1.0  \n",
       "churn                                     1.00     1.0  \n",
       "multiple_lines_No phone service           1.00     1.0  \n",
       "multiple_lines_Yes                        1.00     1.0  \n",
       "online_security_No internet service       1.00     1.0  \n",
       "online_security_Yes                       1.00     1.0  \n",
       "online_backup_No internet service         1.00     1.0  \n",
       "online_backup_Yes                         1.00     1.0  \n",
       "device_protection_No internet service     1.00     1.0  \n",
       "device_protection_Yes                     1.00     1.0  \n",
       "tech_support_No internet service          1.00     1.0  \n",
       "tech_support_Yes                          1.00     1.0  \n",
       "streaming_tv_No internet service          1.00     1.0  \n",
       "streaming_tv_Yes                          1.00     1.0  \n",
       "streaming_movies_No internet service      1.00     1.0  \n",
       "streaming_movies_Yes                      1.00     1.0  \n",
       "contract_type_One year                    1.00     1.0  \n",
       "contract_type_Two year                    1.00     1.0  \n",
       "internet_service_type_Fiber optic         1.00     1.0  \n",
       "internet_service_type_None                1.00     1.0  \n",
       "payment_type_Credit card (automatic)      1.00     1.0  \n",
       "payment_type_Electronic check             1.00     1.0  \n",
       "payment_type_Mailed check                 1.00     1.0  "
      ]
     },
     "execution_count": 199,
     "metadata": {},
     "output_type": "execute_result"
    }
   ],
   "source": [
    "acquire.col_range(df)"
   ]
  },
  {
   "cell_type": "code",
   "execution_count": 200,
   "metadata": {},
   "outputs": [],
   "source": [
    "num, cat = acquire.dtypes_to_list(df)"
   ]
  },
  {
   "cell_type": "code",
   "execution_count": 201,
   "metadata": {},
   "outputs": [
    {
     "data": {
      "image/png": "[encoded data removed]",
      "text/plain": [
       "<Figure size 432x288 with 1 Axes>"
      ]
     },
     "metadata": {},
     "output_type": "display_data"
    },
    {
     "data": {
      "image/png": "[encoded data removed]",
      "text/plain": [
       "<Figure size 432x288 with 1 Axes>"
      ]
     },
     "metadata": {},
     "output_type": "display_data"
    },
    {
     "data": {
      "image/png": "[encoded data removed]",
      "text/plain": [
       "<Figure size 432x288 with 1 Axes>"
      ]
     },
     "metadata": {},
     "output_type": "display_data"
    },
    {
     "data": {
      "image/png": "[encoded data removed]",
      "text/plain": [
       "<Figure size 432x288 with 1 Axes>"
      ]
     },
     "metadata": {},
     "output_type": "display_data"
    },
    {
     "data": {
      "image/png": "[encoded data removed]",
      "text/plain": [
       "<Figure size 432x288 with 1 Axes>"
      ]
     },
     "metadata": {},
     "output_type": "display_data"
    },
    {
     "data": {
      "image/png": "[encoded data removed]",
      "text/plain": [
       "<Figure size 432x288 with 1 Axes>"
      ]
     },
     "metadata": {},
     "output_type": "display_data"
    }
   ],
   "source": [
    "prepare.num_dist(df)"
   ]
  },
  {
   "cell_type": "code",
   "execution_count": 202,
   "metadata": {},
   "outputs": [],
   "source": [
    "train, validate, test = prepare.data_split(df, 'churn')"
   ]
  },
  {
   "cell_type": "code",
   "execution_count": 203,
   "metadata": {},
   "outputs": [
    {
     "data": {
      "text/html": [
       "<div>\n",
       "<style scoped>\n",
       "    .dataframe tbody tr th:only-of-type {\n",
       "        vertical-align: middle;\n",
       "    }\n",
       "\n",
       "    .dataframe tbody tr th {\n",
       "        vertical-align: top;\n",
       "    }\n",
       "\n",
       "    .dataframe thead th {\n",
       "        text-align: right;\n",
       "    }\n",
       "</style>\n",
       "<table border=\"1\" class=\"dataframe\">\n",
       "  <thead>\n",
       "    <tr style=\"text-align: right;\">\n",
       "      <th></th>\n",
       "      <th>internet_service_type_id</th>\n",
       "      <th>payment_type_id</th>\n",
       "      <th>contract_type_id</th>\n",
       "      <th>senior_citizen</th>\n",
       "      <th>tenure</th>\n",
       "      <th>monthly_charges</th>\n",
       "      <th>total_charges</th>\n",
       "      <th>gender_encoded</th>\n",
       "      <th>partner_encoded</th>\n",
       "      <th>dependents_encoded</th>\n",
       "      <th>...</th>\n",
       "      <th>streaming_tv_Yes</th>\n",
       "      <th>streaming_movies_No internet service</th>\n",
       "      <th>streaming_movies_Yes</th>\n",
       "      <th>contract_type_One year</th>\n",
       "      <th>contract_type_Two year</th>\n",
       "      <th>internet_service_type_Fiber optic</th>\n",
       "      <th>internet_service_type_None</th>\n",
       "      <th>payment_type_Credit card (automatic)</th>\n",
       "      <th>payment_type_Electronic check</th>\n",
       "      <th>payment_type_Mailed check</th>\n",
       "    </tr>\n",
       "  </thead>\n",
       "  <tbody>\n",
       "    <tr>\n",
       "      <th>3727</th>\n",
       "      <td>3</td>\n",
       "      <td>2</td>\n",
       "      <td>3</td>\n",
       "      <td>0</td>\n",
       "      <td>45</td>\n",
       "      <td>20.35</td>\n",
       "      <td>929.20</td>\n",
       "      <td>0</td>\n",
       "      <td>1</td>\n",
       "      <td>1</td>\n",
       "      <td>...</td>\n",
       "      <td>0</td>\n",
       "      <td>1</td>\n",
       "      <td>0</td>\n",
       "      <td>0</td>\n",
       "      <td>1</td>\n",
       "      <td>0</td>\n",
       "      <td>1</td>\n",
       "      <td>0</td>\n",
       "      <td>0</td>\n",
       "      <td>1</td>\n",
       "    </tr>\n",
       "    <tr>\n",
       "      <th>4271</th>\n",
       "      <td>3</td>\n",
       "      <td>2</td>\n",
       "      <td>1</td>\n",
       "      <td>0</td>\n",
       "      <td>34</td>\n",
       "      <td>20.65</td>\n",
       "      <td>716.40</td>\n",
       "      <td>1</td>\n",
       "      <td>1</td>\n",
       "      <td>1</td>\n",
       "      <td>...</td>\n",
       "      <td>0</td>\n",
       "      <td>1</td>\n",
       "      <td>0</td>\n",
       "      <td>0</td>\n",
       "      <td>0</td>\n",
       "      <td>0</td>\n",
       "      <td>1</td>\n",
       "      <td>0</td>\n",
       "      <td>0</td>\n",
       "      <td>1</td>\n",
       "    </tr>\n",
       "    <tr>\n",
       "      <th>6317</th>\n",
       "      <td>3</td>\n",
       "      <td>4</td>\n",
       "      <td>1</td>\n",
       "      <td>0</td>\n",
       "      <td>15</td>\n",
       "      <td>19.45</td>\n",
       "      <td>340.85</td>\n",
       "      <td>0</td>\n",
       "      <td>1</td>\n",
       "      <td>0</td>\n",
       "      <td>...</td>\n",
       "      <td>0</td>\n",
       "      <td>1</td>\n",
       "      <td>0</td>\n",
       "      <td>0</td>\n",
       "      <td>0</td>\n",
       "      <td>0</td>\n",
       "      <td>1</td>\n",
       "      <td>1</td>\n",
       "      <td>0</td>\n",
       "      <td>0</td>\n",
       "    </tr>\n",
       "    <tr>\n",
       "      <th>489</th>\n",
       "      <td>1</td>\n",
       "      <td>2</td>\n",
       "      <td>1</td>\n",
       "      <td>0</td>\n",
       "      <td>12</td>\n",
       "      <td>61.65</td>\n",
       "      <td>713.75</td>\n",
       "      <td>1</td>\n",
       "      <td>0</td>\n",
       "      <td>0</td>\n",
       "      <td>...</td>\n",
       "      <td>0</td>\n",
       "      <td>0</td>\n",
       "      <td>0</td>\n",
       "      <td>0</td>\n",
       "      <td>0</td>\n",
       "      <td>0</td>\n",
       "      <td>0</td>\n",
       "      <td>0</td>\n",
       "      <td>0</td>\n",
       "      <td>1</td>\n",
       "    </tr>\n",
       "    <tr>\n",
       "      <th>3771</th>\n",
       "      <td>1</td>\n",
       "      <td>3</td>\n",
       "      <td>1</td>\n",
       "      <td>0</td>\n",
       "      <td>7</td>\n",
       "      <td>62.80</td>\n",
       "      <td>418.30</td>\n",
       "      <td>1</td>\n",
       "      <td>0</td>\n",
       "      <td>0</td>\n",
       "      <td>...</td>\n",
       "      <td>0</td>\n",
       "      <td>0</td>\n",
       "      <td>1</td>\n",
       "      <td>0</td>\n",
       "      <td>0</td>\n",
       "      <td>0</td>\n",
       "      <td>0</td>\n",
       "      <td>0</td>\n",
       "      <td>0</td>\n",
       "      <td>0</td>\n",
       "    </tr>\n",
       "  </tbody>\n",
       "</table>\n",
       "<p>5 rows × 34 columns</p>\n",
       "</div>"
      ],
      "text/plain": [
       "      internet_service_type_id  payment_type_id  contract_type_id  \\\n",
       "3727                         3                2                 3   \n",
       "4271                         3                2                 1   \n",
       "6317                         3                4                 1   \n",
       "489                          1                2                 1   \n",
       "3771                         1                3                 1   \n",
       "\n",
       "      senior_citizen  tenure  monthly_charges  total_charges  gender_encoded  \\\n",
       "3727               0      45            20.35         929.20               0   \n",
       "4271               0      34            20.65         716.40               1   \n",
       "6317               0      15            19.45         340.85               0   \n",
       "489                0      12            61.65         713.75               1   \n",
       "3771               0       7            62.80         418.30               1   \n",
       "\n",
       "      partner_encoded  dependents_encoded  ...  streaming_tv_Yes  \\\n",
       "3727                1                   1  ...                 0   \n",
       "4271                1                   1  ...                 0   \n",
       "6317                1                   0  ...                 0   \n",
       "489                 0                   0  ...                 0   \n",
       "3771                0                   0  ...                 0   \n",
       "\n",
       "      streaming_movies_No internet service  streaming_movies_Yes  \\\n",
       "3727                                     1                     0   \n",
       "4271                                     1                     0   \n",
       "6317                                     1                     0   \n",
       "489                                      0                     0   \n",
       "3771                                     0                     1   \n",
       "\n",
       "      contract_type_One year  contract_type_Two year  \\\n",
       "3727                       0                       1   \n",
       "4271                       0                       0   \n",
       "6317                       0                       0   \n",
       "489                        0                       0   \n",
       "3771                       0                       0   \n",
       "\n",
       "      internet_service_type_Fiber optic  internet_service_type_None  \\\n",
       "3727                                  0                           1   \n",
       "4271                                  0                           1   \n",
       "6317                                  0                           1   \n",
       "489                                   0                           0   \n",
       "3771                                  0                           0   \n",
       "\n",
       "      payment_type_Credit card (automatic)  payment_type_Electronic check  \\\n",
       "3727                                     0                              0   \n",
       "4271                                     0                              0   \n",
       "6317                                     1                              0   \n",
       "489                                      0                              0   \n",
       "3771                                     0                              0   \n",
       "\n",
       "      payment_type_Mailed check  \n",
       "3727                          1  \n",
       "4271                          1  \n",
       "6317                          0  \n",
       "489                           1  \n",
       "3771                          0  \n",
       "\n",
       "[5 rows x 34 columns]"
      ]
     },
     "execution_count": 203,
     "metadata": {},
     "output_type": "execute_result"
    }
   ],
   "source": [
    "train.head()"
   ]
  },
  {
   "cell_type": "code",
   "execution_count": 204,
   "metadata": {},
   "outputs": [
    {
     "data": {
      "text/plain": [
       "((4218, 34), (1407, 34), (1407, 34))"
      ]
     },
     "execution_count": 204,
     "metadata": {},
     "output_type": "execute_result"
    }
   ],
   "source": [
    "train.shape, validate.shape, test.shape"
   ]
  },
  {
   "cell_type": "code",
   "execution_count": 205,
   "metadata": {},
   "outputs": [
    {
     "data": {
      "text/plain": [
       "((4218, 5), (1407, 5), (1407, 5))"
      ]
     },
     "execution_count": 205,
     "metadata": {},
     "output_type": "execute_result"
    }
   ],
   "source": [
    "X_train = train[['monthly_charges', 'payment_type_id', 'tenure', 'gender_encoded', 'senior_citizen']]\n",
    "X_validate = validate[['monthly_charges', 'payment_type_id', 'tenure', 'gender_encoded', 'senior_citizen']]\n",
    "X_test = test[['monthly_charges', 'payment_type_id', 'tenure', 'gender_encoded', 'senior_citizen']]\n",
    "X_train.shape, X_validate.shape, X_test.shape"
   ]
  },
  {
   "cell_type": "code",
   "execution_count": 206,
   "metadata": {},
   "outputs": [],
   "source": [
    "y_train = train.churn\n",
    "y_validate = validate.churn\n",
    "y_test = test.churn\n"
   ]
  },
  {
   "cell_type": "markdown",
   "metadata": {},
   "source": [
    "------\n",
    "#### Baseline Accuracy"
   ]
  },
  {
   "cell_type": "code",
   "execution_count": 207,
   "metadata": {},
   "outputs": [
    {
     "name": "stdout",
     "output_type": "stream",
     "text": [
      "Baseline Accuracy is : 0.7342342342342343\n"
     ]
    }
   ],
   "source": [
    "baseline = y_train.mode()\n",
    "matches_baseline_pred = y_train == 0\n",
    "\n",
    "baseline_accuracy = matches_baseline_pred.mean()\n",
    "print(f\"Baseline Accuracy is : {baseline_accuracy}\")"
   ]
  },
  {
   "cell_type": "markdown",
   "metadata": {},
   "source": [
    "------"
   ]
  },
  {
   "cell_type": "code",
   "execution_count": 208,
   "metadata": {},
   "outputs": [
    {
     "name": "stdout",
     "output_type": "stream",
     "text": [
      "3727    0\n",
      "4271    0\n",
      "6317    0\n",
      "489     1\n",
      "3771    0\n",
      "Name: churn, dtype: int64\n"
     ]
    },
    {
     "data": {
      "text/html": [
       "<div>\n",
       "<style scoped>\n",
       "    .dataframe tbody tr th:only-of-type {\n",
       "        vertical-align: middle;\n",
       "    }\n",
       "\n",
       "    .dataframe tbody tr th {\n",
       "        vertical-align: top;\n",
       "    }\n",
       "\n",
       "    .dataframe thead th {\n",
       "        text-align: right;\n",
       "    }\n",
       "</style>\n",
       "<table border=\"1\" class=\"dataframe\">\n",
       "  <thead>\n",
       "    <tr style=\"text-align: right;\">\n",
       "      <th></th>\n",
       "      <th>monthly_charges</th>\n",
       "      <th>payment_type_id</th>\n",
       "      <th>tenure</th>\n",
       "      <th>gender_encoded</th>\n",
       "      <th>senior_citizen</th>\n",
       "    </tr>\n",
       "  </thead>\n",
       "  <tbody>\n",
       "    <tr>\n",
       "      <th>3727</th>\n",
       "      <td>20.35</td>\n",
       "      <td>2</td>\n",
       "      <td>45</td>\n",
       "      <td>0</td>\n",
       "      <td>0</td>\n",
       "    </tr>\n",
       "    <tr>\n",
       "      <th>4271</th>\n",
       "      <td>20.65</td>\n",
       "      <td>2</td>\n",
       "      <td>34</td>\n",
       "      <td>1</td>\n",
       "      <td>0</td>\n",
       "    </tr>\n",
       "    <tr>\n",
       "      <th>6317</th>\n",
       "      <td>19.45</td>\n",
       "      <td>4</td>\n",
       "      <td>15</td>\n",
       "      <td>0</td>\n",
       "      <td>0</td>\n",
       "    </tr>\n",
       "    <tr>\n",
       "      <th>489</th>\n",
       "      <td>61.65</td>\n",
       "      <td>2</td>\n",
       "      <td>12</td>\n",
       "      <td>1</td>\n",
       "      <td>0</td>\n",
       "    </tr>\n",
       "    <tr>\n",
       "      <th>3771</th>\n",
       "      <td>62.80</td>\n",
       "      <td>3</td>\n",
       "      <td>7</td>\n",
       "      <td>1</td>\n",
       "      <td>0</td>\n",
       "    </tr>\n",
       "  </tbody>\n",
       "</table>\n",
       "</div>"
      ],
      "text/plain": [
       "      monthly_charges  payment_type_id  tenure  gender_encoded  senior_citizen\n",
       "3727            20.35                2      45               0               0\n",
       "4271            20.65                2      34               1               0\n",
       "6317            19.45                4      15               0               0\n",
       "489             61.65                2      12               1               0\n",
       "3771            62.80                3       7               1               0"
      ]
     },
     "execution_count": 208,
     "metadata": {},
     "output_type": "execute_result"
    }
   ],
   "source": [
    "print(y_train[:5])\n",
    "X_train.head()"
   ]
  },
  {
   "cell_type": "code",
   "execution_count": 209,
   "metadata": {},
   "outputs": [
    {
     "data": {
      "image/png": "[encoded data removed]",
      "text/plain": [
       "<Figure size 432x288 with 1 Axes>"
      ]
     },
     "metadata": {},
     "output_type": "display_data"
    }
   ],
   "source": [
    "sns.violinplot(x='gender_encoded',y='monthly_charges', data=train, hue = 'churn')\n",
    "plt.show()"
   ]
  },
  {
   "cell_type": "code",
   "execution_count": 210,
   "metadata": {},
   "outputs": [
    {
     "data": {
      "text/html": [
       "<div>\n",
       "<style scoped>\n",
       "    .dataframe tbody tr th:only-of-type {\n",
       "        vertical-align: middle;\n",
       "    }\n",
       "\n",
       "    .dataframe tbody tr th {\n",
       "        vertical-align: top;\n",
       "    }\n",
       "\n",
       "    .dataframe thead th {\n",
       "        text-align: right;\n",
       "    }\n",
       "</style>\n",
       "<table border=\"1\" class=\"dataframe\">\n",
       "  <thead>\n",
       "    <tr style=\"text-align: right;\">\n",
       "      <th></th>\n",
       "      <th>count</th>\n",
       "      <th>mean</th>\n",
       "      <th>std</th>\n",
       "      <th>min</th>\n",
       "      <th>25%</th>\n",
       "      <th>50%</th>\n",
       "      <th>75%</th>\n",
       "      <th>max</th>\n",
       "      <th>range</th>\n",
       "    </tr>\n",
       "  </thead>\n",
       "  <tbody>\n",
       "    <tr>\n",
       "      <th>internet_service_type_id</th>\n",
       "      <td>4218.0</td>\n",
       "      <td>1.879090</td>\n",
       "      <td>0.739857</td>\n",
       "      <td>1.00</td>\n",
       "      <td>1.0000</td>\n",
       "      <td>2.000</td>\n",
       "      <td>2.000</td>\n",
       "      <td>3.00</td>\n",
       "      <td>2.00</td>\n",
       "    </tr>\n",
       "    <tr>\n",
       "      <th>payment_type_id</th>\n",
       "      <td>4218.0</td>\n",
       "      <td>2.339260</td>\n",
       "      <td>1.154377</td>\n",
       "      <td>1.00</td>\n",
       "      <td>1.0000</td>\n",
       "      <td>2.000</td>\n",
       "      <td>3.000</td>\n",
       "      <td>4.00</td>\n",
       "      <td>3.00</td>\n",
       "    </tr>\n",
       "    <tr>\n",
       "      <th>contract_type_id</th>\n",
       "      <td>4218.0</td>\n",
       "      <td>1.688715</td>\n",
       "      <td>0.835012</td>\n",
       "      <td>1.00</td>\n",
       "      <td>1.0000</td>\n",
       "      <td>1.000</td>\n",
       "      <td>2.000</td>\n",
       "      <td>3.00</td>\n",
       "      <td>2.00</td>\n",
       "    </tr>\n",
       "    <tr>\n",
       "      <th>senior_citizen</th>\n",
       "      <td>4218.0</td>\n",
       "      <td>0.160028</td>\n",
       "      <td>0.366676</td>\n",
       "      <td>0.00</td>\n",
       "      <td>0.0000</td>\n",
       "      <td>0.000</td>\n",
       "      <td>0.000</td>\n",
       "      <td>1.00</td>\n",
       "      <td>1.00</td>\n",
       "    </tr>\n",
       "    <tr>\n",
       "      <th>tenure</th>\n",
       "      <td>4218.0</td>\n",
       "      <td>32.609056</td>\n",
       "      <td>24.696663</td>\n",
       "      <td>1.00</td>\n",
       "      <td>8.2500</td>\n",
       "      <td>30.000</td>\n",
       "      <td>56.000</td>\n",
       "      <td>72.00</td>\n",
       "      <td>71.00</td>\n",
       "    </tr>\n",
       "    <tr>\n",
       "      <th>monthly_charges</th>\n",
       "      <td>4218.0</td>\n",
       "      <td>64.758250</td>\n",
       "      <td>30.282198</td>\n",
       "      <td>18.25</td>\n",
       "      <td>34.7000</td>\n",
       "      <td>70.200</td>\n",
       "      <td>90.250</td>\n",
       "      <td>118.65</td>\n",
       "      <td>100.40</td>\n",
       "    </tr>\n",
       "    <tr>\n",
       "      <th>total_charges</th>\n",
       "      <td>4218.0</td>\n",
       "      <td>2298.477584</td>\n",
       "      <td>2276.065927</td>\n",
       "      <td>18.85</td>\n",
       "      <td>392.6625</td>\n",
       "      <td>1406.325</td>\n",
       "      <td>3861.425</td>\n",
       "      <td>8594.40</td>\n",
       "      <td>8575.55</td>\n",
       "    </tr>\n",
       "    <tr>\n",
       "      <th>gender_encoded</th>\n",
       "      <td>4218.0</td>\n",
       "      <td>0.499526</td>\n",
       "      <td>0.500059</td>\n",
       "      <td>0.00</td>\n",
       "      <td>0.0000</td>\n",
       "      <td>0.000</td>\n",
       "      <td>1.000</td>\n",
       "      <td>1.00</td>\n",
       "      <td>1.00</td>\n",
       "    </tr>\n",
       "    <tr>\n",
       "      <th>partner_encoded</th>\n",
       "      <td>4218.0</td>\n",
       "      <td>0.482456</td>\n",
       "      <td>0.499751</td>\n",
       "      <td>0.00</td>\n",
       "      <td>0.0000</td>\n",
       "      <td>0.000</td>\n",
       "      <td>1.000</td>\n",
       "      <td>1.00</td>\n",
       "      <td>1.00</td>\n",
       "    </tr>\n",
       "    <tr>\n",
       "      <th>dependents_encoded</th>\n",
       "      <td>4218.0</td>\n",
       "      <td>0.301091</td>\n",
       "      <td>0.458786</td>\n",
       "      <td>0.00</td>\n",
       "      <td>0.0000</td>\n",
       "      <td>0.000</td>\n",
       "      <td>1.000</td>\n",
       "      <td>1.00</td>\n",
       "      <td>1.00</td>\n",
       "    </tr>\n",
       "    <tr>\n",
       "      <th>phone_service_encoded</th>\n",
       "      <td>4218.0</td>\n",
       "      <td>0.904931</td>\n",
       "      <td>0.293345</td>\n",
       "      <td>0.00</td>\n",
       "      <td>1.0000</td>\n",
       "      <td>1.000</td>\n",
       "      <td>1.000</td>\n",
       "      <td>1.00</td>\n",
       "      <td>1.00</td>\n",
       "    </tr>\n",
       "    <tr>\n",
       "      <th>paperless_billing_encoded</th>\n",
       "      <td>4218.0</td>\n",
       "      <td>0.589142</td>\n",
       "      <td>0.492048</td>\n",
       "      <td>0.00</td>\n",
       "      <td>0.0000</td>\n",
       "      <td>1.000</td>\n",
       "      <td>1.000</td>\n",
       "      <td>1.00</td>\n",
       "      <td>1.00</td>\n",
       "    </tr>\n",
       "    <tr>\n",
       "      <th>churn</th>\n",
       "      <td>4218.0</td>\n",
       "      <td>0.265766</td>\n",
       "      <td>0.441792</td>\n",
       "      <td>0.00</td>\n",
       "      <td>0.0000</td>\n",
       "      <td>0.000</td>\n",
       "      <td>1.000</td>\n",
       "      <td>1.00</td>\n",
       "      <td>1.00</td>\n",
       "    </tr>\n",
       "    <tr>\n",
       "      <th>multiple_lines_No phone service</th>\n",
       "      <td>4218.0</td>\n",
       "      <td>0.095069</td>\n",
       "      <td>0.293345</td>\n",
       "      <td>0.00</td>\n",
       "      <td>0.0000</td>\n",
       "      <td>0.000</td>\n",
       "      <td>0.000</td>\n",
       "      <td>1.00</td>\n",
       "      <td>1.00</td>\n",
       "    </tr>\n",
       "    <tr>\n",
       "      <th>multiple_lines_Yes</th>\n",
       "      <td>4218.0</td>\n",
       "      <td>0.422712</td>\n",
       "      <td>0.494049</td>\n",
       "      <td>0.00</td>\n",
       "      <td>0.0000</td>\n",
       "      <td>0.000</td>\n",
       "      <td>1.000</td>\n",
       "      <td>1.00</td>\n",
       "      <td>1.00</td>\n",
       "    </tr>\n",
       "    <tr>\n",
       "      <th>online_security_No internet service</th>\n",
       "      <td>4218.0</td>\n",
       "      <td>0.220484</td>\n",
       "      <td>0.414622</td>\n",
       "      <td>0.00</td>\n",
       "      <td>0.0000</td>\n",
       "      <td>0.000</td>\n",
       "      <td>0.000</td>\n",
       "      <td>1.00</td>\n",
       "      <td>1.00</td>\n",
       "    </tr>\n",
       "    <tr>\n",
       "      <th>online_security_Yes</th>\n",
       "      <td>4218.0</td>\n",
       "      <td>0.290659</td>\n",
       "      <td>0.454120</td>\n",
       "      <td>0.00</td>\n",
       "      <td>0.0000</td>\n",
       "      <td>0.000</td>\n",
       "      <td>1.000</td>\n",
       "      <td>1.00</td>\n",
       "      <td>1.00</td>\n",
       "    </tr>\n",
       "    <tr>\n",
       "      <th>online_backup_No internet service</th>\n",
       "      <td>4218.0</td>\n",
       "      <td>0.220484</td>\n",
       "      <td>0.414622</td>\n",
       "      <td>0.00</td>\n",
       "      <td>0.0000</td>\n",
       "      <td>0.000</td>\n",
       "      <td>0.000</td>\n",
       "      <td>1.00</td>\n",
       "      <td>1.00</td>\n",
       "    </tr>\n",
       "    <tr>\n",
       "      <th>online_backup_Yes</th>\n",
       "      <td>4218.0</td>\n",
       "      <td>0.349455</td>\n",
       "      <td>0.476854</td>\n",
       "      <td>0.00</td>\n",
       "      <td>0.0000</td>\n",
       "      <td>0.000</td>\n",
       "      <td>1.000</td>\n",
       "      <td>1.00</td>\n",
       "      <td>1.00</td>\n",
       "    </tr>\n",
       "    <tr>\n",
       "      <th>device_protection_No internet service</th>\n",
       "      <td>4218.0</td>\n",
       "      <td>0.220484</td>\n",
       "      <td>0.414622</td>\n",
       "      <td>0.00</td>\n",
       "      <td>0.0000</td>\n",
       "      <td>0.000</td>\n",
       "      <td>0.000</td>\n",
       "      <td>1.00</td>\n",
       "      <td>1.00</td>\n",
       "    </tr>\n",
       "    <tr>\n",
       "      <th>device_protection_Yes</th>\n",
       "      <td>4218.0</td>\n",
       "      <td>0.348743</td>\n",
       "      <td>0.476629</td>\n",
       "      <td>0.00</td>\n",
       "      <td>0.0000</td>\n",
       "      <td>0.000</td>\n",
       "      <td>1.000</td>\n",
       "      <td>1.00</td>\n",
       "      <td>1.00</td>\n",
       "    </tr>\n",
       "    <tr>\n",
       "      <th>tech_support_No internet service</th>\n",
       "      <td>4218.0</td>\n",
       "      <td>0.220484</td>\n",
       "      <td>0.414622</td>\n",
       "      <td>0.00</td>\n",
       "      <td>0.0000</td>\n",
       "      <td>0.000</td>\n",
       "      <td>0.000</td>\n",
       "      <td>1.00</td>\n",
       "      <td>1.00</td>\n",
       "    </tr>\n",
       "    <tr>\n",
       "      <th>tech_support_Yes</th>\n",
       "      <td>4218.0</td>\n",
       "      <td>0.288288</td>\n",
       "      <td>0.453020</td>\n",
       "      <td>0.00</td>\n",
       "      <td>0.0000</td>\n",
       "      <td>0.000</td>\n",
       "      <td>1.000</td>\n",
       "      <td>1.00</td>\n",
       "      <td>1.00</td>\n",
       "    </tr>\n",
       "    <tr>\n",
       "      <th>streaming_tv_No internet service</th>\n",
       "      <td>4218.0</td>\n",
       "      <td>0.220484</td>\n",
       "      <td>0.414622</td>\n",
       "      <td>0.00</td>\n",
       "      <td>0.0000</td>\n",
       "      <td>0.000</td>\n",
       "      <td>0.000</td>\n",
       "      <td>1.00</td>\n",
       "      <td>1.00</td>\n",
       "    </tr>\n",
       "    <tr>\n",
       "      <th>streaming_tv_Yes</th>\n",
       "      <td>4218.0</td>\n",
       "      <td>0.384305</td>\n",
       "      <td>0.486488</td>\n",
       "      <td>0.00</td>\n",
       "      <td>0.0000</td>\n",
       "      <td>0.000</td>\n",
       "      <td>1.000</td>\n",
       "      <td>1.00</td>\n",
       "      <td>1.00</td>\n",
       "    </tr>\n",
       "    <tr>\n",
       "      <th>streaming_movies_No internet service</th>\n",
       "      <td>4218.0</td>\n",
       "      <td>0.220484</td>\n",
       "      <td>0.414622</td>\n",
       "      <td>0.00</td>\n",
       "      <td>0.0000</td>\n",
       "      <td>0.000</td>\n",
       "      <td>0.000</td>\n",
       "      <td>1.00</td>\n",
       "      <td>1.00</td>\n",
       "    </tr>\n",
       "    <tr>\n",
       "      <th>streaming_movies_Yes</th>\n",
       "      <td>4218.0</td>\n",
       "      <td>0.390469</td>\n",
       "      <td>0.487913</td>\n",
       "      <td>0.00</td>\n",
       "      <td>0.0000</td>\n",
       "      <td>0.000</td>\n",
       "      <td>1.000</td>\n",
       "      <td>1.00</td>\n",
       "      <td>1.00</td>\n",
       "    </tr>\n",
       "    <tr>\n",
       "      <th>contract_type_One year</th>\n",
       "      <td>4218.0</td>\n",
       "      <td>0.206022</td>\n",
       "      <td>0.404494</td>\n",
       "      <td>0.00</td>\n",
       "      <td>0.0000</td>\n",
       "      <td>0.000</td>\n",
       "      <td>0.000</td>\n",
       "      <td>1.00</td>\n",
       "      <td>1.00</td>\n",
       "    </tr>\n",
       "    <tr>\n",
       "      <th>contract_type_Two year</th>\n",
       "      <td>4218.0</td>\n",
       "      <td>0.241347</td>\n",
       "      <td>0.427951</td>\n",
       "      <td>0.00</td>\n",
       "      <td>0.0000</td>\n",
       "      <td>0.000</td>\n",
       "      <td>0.000</td>\n",
       "      <td>1.00</td>\n",
       "      <td>1.00</td>\n",
       "    </tr>\n",
       "    <tr>\n",
       "      <th>internet_service_type_Fiber optic</th>\n",
       "      <td>4218.0</td>\n",
       "      <td>0.438122</td>\n",
       "      <td>0.496215</td>\n",
       "      <td>0.00</td>\n",
       "      <td>0.0000</td>\n",
       "      <td>0.000</td>\n",
       "      <td>1.000</td>\n",
       "      <td>1.00</td>\n",
       "      <td>1.00</td>\n",
       "    </tr>\n",
       "    <tr>\n",
       "      <th>internet_service_type_None</th>\n",
       "      <td>4218.0</td>\n",
       "      <td>0.220484</td>\n",
       "      <td>0.414622</td>\n",
       "      <td>0.00</td>\n",
       "      <td>0.0000</td>\n",
       "      <td>0.000</td>\n",
       "      <td>0.000</td>\n",
       "      <td>1.00</td>\n",
       "      <td>1.00</td>\n",
       "    </tr>\n",
       "    <tr>\n",
       "      <th>payment_type_Credit card (automatic)</th>\n",
       "      <td>4218.0</td>\n",
       "      <td>0.225462</td>\n",
       "      <td>0.417936</td>\n",
       "      <td>0.00</td>\n",
       "      <td>0.0000</td>\n",
       "      <td>0.000</td>\n",
       "      <td>0.000</td>\n",
       "      <td>1.00</td>\n",
       "      <td>1.00</td>\n",
       "    </tr>\n",
       "    <tr>\n",
       "      <th>payment_type_Electronic check</th>\n",
       "      <td>4218.0</td>\n",
       "      <td>0.328592</td>\n",
       "      <td>0.469757</td>\n",
       "      <td>0.00</td>\n",
       "      <td>0.0000</td>\n",
       "      <td>0.000</td>\n",
       "      <td>1.000</td>\n",
       "      <td>1.00</td>\n",
       "      <td>1.00</td>\n",
       "    </tr>\n",
       "    <tr>\n",
       "      <th>payment_type_Mailed check</th>\n",
       "      <td>4218.0</td>\n",
       "      <td>0.229018</td>\n",
       "      <td>0.420251</td>\n",
       "      <td>0.00</td>\n",
       "      <td>0.0000</td>\n",
       "      <td>0.000</td>\n",
       "      <td>0.000</td>\n",
       "      <td>1.00</td>\n",
       "      <td>1.00</td>\n",
       "    </tr>\n",
       "  </tbody>\n",
       "</table>\n",
       "</div>"
      ],
      "text/plain": [
       "                                        count         mean          std  \\\n",
       "internet_service_type_id               4218.0     1.879090     0.739857   \n",
       "payment_type_id                        4218.0     2.339260     1.154377   \n",
       "contract_type_id                       4218.0     1.688715     0.835012   \n",
       "senior_citizen                         4218.0     0.160028     0.366676   \n",
       "tenure                                 4218.0    32.609056    24.696663   \n",
       "monthly_charges                        4218.0    64.758250    30.282198   \n",
       "total_charges                          4218.0  2298.477584  2276.065927   \n",
       "gender_encoded                         4218.0     0.499526     0.500059   \n",
       "partner_encoded                        4218.0     0.482456     0.499751   \n",
       "dependents_encoded                     4218.0     0.301091     0.458786   \n",
       "phone_service_encoded                  4218.0     0.904931     0.293345   \n",
       "paperless_billing_encoded              4218.0     0.589142     0.492048   \n",
       "churn                                  4218.0     0.265766     0.441792   \n",
       "multiple_lines_No phone service        4218.0     0.095069     0.293345   \n",
       "multiple_lines_Yes                     4218.0     0.422712     0.494049   \n",
       "online_security_No internet service    4218.0     0.220484     0.414622   \n",
       "online_security_Yes                    4218.0     0.290659     0.454120   \n",
       "online_backup_No internet service      4218.0     0.220484     0.414622   \n",
       "online_backup_Yes                      4218.0     0.349455     0.476854   \n",
       "device_protection_No internet service  4218.0     0.220484     0.414622   \n",
       "device_protection_Yes                  4218.0     0.348743     0.476629   \n",
       "tech_support_No internet service       4218.0     0.220484     0.414622   \n",
       "tech_support_Yes                       4218.0     0.288288     0.453020   \n",
       "streaming_tv_No internet service       4218.0     0.220484     0.414622   \n",
       "streaming_tv_Yes                       4218.0     0.384305     0.486488   \n",
       "streaming_movies_No internet service   4218.0     0.220484     0.414622   \n",
       "streaming_movies_Yes                   4218.0     0.390469     0.487913   \n",
       "contract_type_One year                 4218.0     0.206022     0.404494   \n",
       "contract_type_Two year                 4218.0     0.241347     0.427951   \n",
       "internet_service_type_Fiber optic      4218.0     0.438122     0.496215   \n",
       "internet_service_type_None             4218.0     0.220484     0.414622   \n",
       "payment_type_Credit card (automatic)   4218.0     0.225462     0.417936   \n",
       "payment_type_Electronic check          4218.0     0.328592     0.469757   \n",
       "payment_type_Mailed check              4218.0     0.229018     0.420251   \n",
       "\n",
       "                                         min       25%       50%       75%  \\\n",
       "internet_service_type_id                1.00    1.0000     2.000     2.000   \n",
       "payment_type_id                         1.00    1.0000     2.000     3.000   \n",
       "contract_type_id                        1.00    1.0000     1.000     2.000   \n",
       "senior_citizen                          0.00    0.0000     0.000     0.000   \n",
       "tenure                                  1.00    8.2500    30.000    56.000   \n",
       "monthly_charges                        18.25   34.7000    70.200    90.250   \n",
       "total_charges                          18.85  392.6625  1406.325  3861.425   \n",
       "gender_encoded                          0.00    0.0000     0.000     1.000   \n",
       "partner_encoded                         0.00    0.0000     0.000     1.000   \n",
       "dependents_encoded                      0.00    0.0000     0.000     1.000   \n",
       "phone_service_encoded                   0.00    1.0000     1.000     1.000   \n",
       "paperless_billing_encoded               0.00    0.0000     1.000     1.000   \n",
       "churn                                   0.00    0.0000     0.000     1.000   \n",
       "multiple_lines_No phone service         0.00    0.0000     0.000     0.000   \n",
       "multiple_lines_Yes                      0.00    0.0000     0.000     1.000   \n",
       "online_security_No internet service     0.00    0.0000     0.000     0.000   \n",
       "online_security_Yes                     0.00    0.0000     0.000     1.000   \n",
       "online_backup_No internet service       0.00    0.0000     0.000     0.000   \n",
       "online_backup_Yes                       0.00    0.0000     0.000     1.000   \n",
       "device_protection_No internet service   0.00    0.0000     0.000     0.000   \n",
       "device_protection_Yes                   0.00    0.0000     0.000     1.000   \n",
       "tech_support_No internet service        0.00    0.0000     0.000     0.000   \n",
       "tech_support_Yes                        0.00    0.0000     0.000     1.000   \n",
       "streaming_tv_No internet service        0.00    0.0000     0.000     0.000   \n",
       "streaming_tv_Yes                        0.00    0.0000     0.000     1.000   \n",
       "streaming_movies_No internet service    0.00    0.0000     0.000     0.000   \n",
       "streaming_movies_Yes                    0.00    0.0000     0.000     1.000   \n",
       "contract_type_One year                  0.00    0.0000     0.000     0.000   \n",
       "contract_type_Two year                  0.00    0.0000     0.000     0.000   \n",
       "internet_service_type_Fiber optic       0.00    0.0000     0.000     1.000   \n",
       "internet_service_type_None              0.00    0.0000     0.000     0.000   \n",
       "payment_type_Credit card (automatic)    0.00    0.0000     0.000     0.000   \n",
       "payment_type_Electronic check           0.00    0.0000     0.000     1.000   \n",
       "payment_type_Mailed check               0.00    0.0000     0.000     0.000   \n",
       "\n",
       "                                           max    range  \n",
       "internet_service_type_id                  3.00     2.00  \n",
       "payment_type_id                           4.00     3.00  \n",
       "contract_type_id                          3.00     2.00  \n",
       "senior_citizen                            1.00     1.00  \n",
       "tenure                                   72.00    71.00  \n",
       "monthly_charges                         118.65   100.40  \n",
       "total_charges                          8594.40  8575.55  \n",
       "gender_encoded                            1.00     1.00  \n",
       "partner_encoded                           1.00     1.00  \n",
       "dependents_encoded                        1.00     1.00  \n",
       "phone_service_encoded                     1.00     1.00  \n",
       "paperless_billing_encoded                 1.00     1.00  \n",
       "churn                                     1.00     1.00  \n",
       "multiple_lines_No phone service           1.00     1.00  \n",
       "multiple_lines_Yes                        1.00     1.00  \n",
       "online_security_No internet service       1.00     1.00  \n",
       "online_security_Yes                       1.00     1.00  \n",
       "online_backup_No internet service         1.00     1.00  \n",
       "online_backup_Yes                         1.00     1.00  \n",
       "device_protection_No internet service     1.00     1.00  \n",
       "device_protection_Yes                     1.00     1.00  \n",
       "tech_support_No internet service          1.00     1.00  \n",
       "tech_support_Yes                          1.00     1.00  \n",
       "streaming_tv_No internet service          1.00     1.00  \n",
       "streaming_tv_Yes                          1.00     1.00  \n",
       "streaming_movies_No internet service      1.00     1.00  \n",
       "streaming_movies_Yes                      1.00     1.00  \n",
       "contract_type_One year                    1.00     1.00  \n",
       "contract_type_Two year                    1.00     1.00  \n",
       "internet_service_type_Fiber optic         1.00     1.00  \n",
       "internet_service_type_None                1.00     1.00  \n",
       "payment_type_Credit card (automatic)      1.00     1.00  \n",
       "payment_type_Electronic check             1.00     1.00  \n",
       "payment_type_Mailed check                 1.00     1.00  "
      ]
     },
     "execution_count": 210,
     "metadata": {},
     "output_type": "execute_result"
    }
   ],
   "source": [
    "acquire.col_range(train)"
   ]
  },
  {
   "cell_type": "code",
   "execution_count": 211,
   "metadata": {},
   "outputs": [],
   "source": [
    "# Wah this is the best, it can filter your new column, so now I can get a visual count of number of seniors who churned.\n",
    "# train['senior_churn'] = 0\n",
    "# train.loc[train['senior_citizen'] == 1, 'senior_churn'] = 1\n",
    "# train.loc[train['churn'] == 0, 'senior_churn'] = 0\n",
    "# train.senior_churn.value_counts(), train.senior_citizen.value_counts()"
   ]
  },
  {
   "cell_type": "code",
   "execution_count": 212,
   "metadata": {},
   "outputs": [],
   "source": [
    "# pd.crosstab(train.senior_citizen,train.senior_churn)"
   ]
  },
  {
   "cell_type": "code",
   "execution_count": 213,
   "metadata": {},
   "outputs": [],
   "source": [
    "# pd.crosstab(train.senior_citizen,train.senior_churn)[1:2]"
   ]
  },
  {
   "cell_type": "code",
   "execution_count": 214,
   "metadata": {},
   "outputs": [],
   "source": [
    "# senior = train.senior_citizen[train.senior_citizen == 1].count()"
   ]
  },
  {
   "cell_type": "code",
   "execution_count": 215,
   "metadata": {},
   "outputs": [],
   "source": [
    "# senior"
   ]
  },
  {
   "cell_type": "code",
   "execution_count": 216,
   "metadata": {},
   "outputs": [],
   "source": [
    "#def plot_stack(column_1, column_2):\n",
    " #plot_stck=pd.crosstab(index=column_1, columns=column_2)\n",
    " #plot_stck.plot(kind='bar', figsize=(8,8), stacked=True)\n",
    " #return\n",
    " #plot_stack(train_data_wmis['max_glu_serum'], train_data_wmis['readmitted'])"
   ]
  },
  {
   "cell_type": "code",
   "execution_count": null,
   "metadata": {},
   "outputs": [],
   "source": []
  },
  {
   "cell_type": "markdown",
   "metadata": {},
   "source": [
    "------"
   ]
  },
  {
   "cell_type": "markdown",
   "metadata": {},
   "source": [
    "Starting MVP, modelling."
   ]
  },
  {
   "cell_type": "code",
   "execution_count": 217,
   "metadata": {},
   "outputs": [],
   "source": [
    "clf = DecisionTreeClassifier(max_depth=3, random_state=342)\n",
    "# Baseline accuracy repeats 342 over and over so I thought it would be fun to use it."
   ]
  },
  {
   "cell_type": "code",
   "execution_count": 262,
   "metadata": {},
   "outputs": [],
   "source": [
    "clf = clf.fit(X_train, y_train)"
   ]
  },
  {
   "cell_type": "code",
   "execution_count": 264,
   "metadata": {},
   "outputs": [
    {
     "data": {
      "image/png": "[encoded data removed]",
      "text/plain": [
       "<Figure size 2376x864 with 1 Axes>"
      ]
     },
     "metadata": {},
     "output_type": "display_data"
    }
   ],
   "source": [
    "plt.figure(figsize=(33,12))\n",
    "plot_tree(clf, feature_names=X_train.columns, class_names=clf.classes_.astype(str), rounded=True)\n",
    "plt.show()"
   ]
  },
  {
   "cell_type": "code",
   "execution_count": 220,
   "metadata": {},
   "outputs": [
    {
     "data": {
      "text/plain": [
       "array([0, 0, 0, 0, 0])"
      ]
     },
     "execution_count": 220,
     "metadata": {},
     "output_type": "execute_result"
    }
   ],
   "source": [
    "y_pred = clf.predict(X_train)\n",
    "y_pred[:5]"
   ]
  },
  {
   "cell_type": "code",
   "execution_count": 221,
   "metadata": {},
   "outputs": [
    {
     "data": {
      "text/plain": [
       "array([[0.98245614, 0.01754386],\n",
       "       [0.98245614, 0.01754386],\n",
       "       [0.816     , 0.184     ],\n",
       "       [0.816     , 0.184     ],\n",
       "       [0.816     , 0.184     ]])"
      ]
     },
     "execution_count": 221,
     "metadata": {},
     "output_type": "execute_result"
    }
   ],
   "source": [
    "y_pred_prob = clf.predict_proba(X_train)\n",
    "y_pred_prob[:5]"
   ]
  },
  {
   "cell_type": "code",
   "execution_count": 257,
   "metadata": {},
   "outputs": [
    {
     "data": {
      "text/html": [
       "<div>\n",
       "<style scoped>\n",
       "    .dataframe tbody tr th:only-of-type {\n",
       "        vertical-align: middle;\n",
       "    }\n",
       "\n",
       "    .dataframe tbody tr th {\n",
       "        vertical-align: top;\n",
       "    }\n",
       "\n",
       "    .dataframe thead th {\n",
       "        text-align: right;\n",
       "    }\n",
       "</style>\n",
       "<table border=\"1\" class=\"dataframe\">\n",
       "  <thead>\n",
       "    <tr style=\"text-align: right;\">\n",
       "      <th>col_0</th>\n",
       "      <th>0</th>\n",
       "      <th>1</th>\n",
       "    </tr>\n",
       "    <tr>\n",
       "      <th>churn</th>\n",
       "      <th></th>\n",
       "      <th></th>\n",
       "    </tr>\n",
       "  </thead>\n",
       "  <tbody>\n",
       "    <tr>\n",
       "      <th>0</th>\n",
       "      <td>2864</td>\n",
       "      <td>233</td>\n",
       "    </tr>\n",
       "    <tr>\n",
       "      <th>1</th>\n",
       "      <td>664</td>\n",
       "      <td>457</td>\n",
       "    </tr>\n",
       "  </tbody>\n",
       "</table>\n",
       "</div>"
      ],
      "text/plain": [
       "col_0     0    1\n",
       "churn           \n",
       "0      2864  233\n",
       "1       664  457"
      ]
     },
     "execution_count": 257,
     "metadata": {},
     "output_type": "execute_result"
    }
   ],
   "source": [
    "TP = 457\n",
    "TN = 2864\n",
    "FP = 233\n",
    "FN = 664\n",
    "pd.crosstab(y_train,y_pred)"
   ]
  },
  {
   "cell_type": "code",
   "execution_count": 258,
   "metadata": {},
   "outputs": [
    {
     "name": "stdout",
     "output_type": "stream",
     "text": [
      " The Accuracy of 'Tree 1' is ~0.79\n"
     ]
    }
   ],
   "source": [
    "print(f\" The Accuracy of 'Tree 1' is ~{round(clf.score(X_train, y_train), 2)}\")"
   ]
  },
  {
   "cell_type": "code",
   "execution_count": 259,
   "metadata": {},
   "outputs": [
    {
     "data": {
      "text/html": [
       "<div>\n",
       "<style scoped>\n",
       "    .dataframe tbody tr th:only-of-type {\n",
       "        vertical-align: middle;\n",
       "    }\n",
       "\n",
       "    .dataframe tbody tr th {\n",
       "        vertical-align: top;\n",
       "    }\n",
       "\n",
       "    .dataframe thead th {\n",
       "        text-align: right;\n",
       "    }\n",
       "</style>\n",
       "<table border=\"1\" class=\"dataframe\">\n",
       "  <thead>\n",
       "    <tr style=\"text-align: right;\">\n",
       "      <th></th>\n",
       "      <th>0</th>\n",
       "      <th>1</th>\n",
       "      <th>accuracy</th>\n",
       "      <th>macro avg</th>\n",
       "      <th>weighted avg</th>\n",
       "    </tr>\n",
       "  </thead>\n",
       "  <tbody>\n",
       "    <tr>\n",
       "      <th>precision</th>\n",
       "      <td>0.811791</td>\n",
       "      <td>0.662319</td>\n",
       "      <td>0.78734</td>\n",
       "      <td>0.737055</td>\n",
       "      <td>0.772067</td>\n",
       "    </tr>\n",
       "    <tr>\n",
       "      <th>recall</th>\n",
       "      <td>0.924766</td>\n",
       "      <td>0.407672</td>\n",
       "      <td>0.78734</td>\n",
       "      <td>0.666219</td>\n",
       "      <td>0.787340</td>\n",
       "    </tr>\n",
       "    <tr>\n",
       "      <th>f1-score</th>\n",
       "      <td>0.864604</td>\n",
       "      <td>0.504694</td>\n",
       "      <td>0.78734</td>\n",
       "      <td>0.684649</td>\n",
       "      <td>0.768952</td>\n",
       "    </tr>\n",
       "    <tr>\n",
       "      <th>support</th>\n",
       "      <td>3097.000000</td>\n",
       "      <td>1121.000000</td>\n",
       "      <td>0.78734</td>\n",
       "      <td>4218.000000</td>\n",
       "      <td>4218.000000</td>\n",
       "    </tr>\n",
       "  </tbody>\n",
       "</table>\n",
       "</div>"
      ],
      "text/plain": [
       "                     0            1  accuracy    macro avg  weighted avg\n",
       "precision     0.811791     0.662319   0.78734     0.737055      0.772067\n",
       "recall        0.924766     0.407672   0.78734     0.666219      0.787340\n",
       "f1-score      0.864604     0.504694   0.78734     0.684649      0.768952\n",
       "support    3097.000000  1121.000000   0.78734  4218.000000   4218.000000"
      ]
     },
     "execution_count": 259,
     "metadata": {},
     "output_type": "execute_result"
    }
   ],
   "source": [
    "report = classification_report(y_train, y_pred, output_dict=True)\n",
    "pd.DataFrame(report)"
   ]
  },
  {
   "cell_type": "code",
   "execution_count": 260,
   "metadata": {},
   "outputs": [
    {
     "name": "stdout",
     "output_type": "stream",
     "text": [
      "accuracy: 78.73%\n",
      "true positive rate / recall: 40.77%\n",
      "true negative rate / Specificity: 92.48%\n",
      "false potivie rate / Percision: 66.23%\n",
      "false negative rate: 81.18%\n",
      "f1-score: 50.47%\n",
      "support: 690\n"
     ]
    }
   ],
   "source": [
    "print(f'accuracy: {met.accuracy_score(train.churn, clf.predict(X_train)):.2%}')\n",
    "print(f'true positive rate / recall: {met.recall_score(train.churn, clf.predict(X_train)):.2%}')\n",
    "print(f'true negative rate / Specificity: {(TN)/(FP+TN):.2%}')\n",
    "print(f'false potivie rate / Percision: {met.precision_score(train.churn, clf.predict(X_train)):.2%}')\n",
    "print(f'false negative rate: {(TN)/(TN+FN):.2%}')\n",
    "print(f'f1-score: {met.f1_score(train.churn, clf.predict(X_train)):.2%}')\n",
    "print(f'support: {clf.predict(X_train).sum()}')"
   ]
  },
  {
   "cell_type": "code",
   "execution_count": 261,
   "metadata": {},
   "outputs": [
    {
     "name": "stdout",
     "output_type": "stream",
     "text": [
      "Accuracy of Tree 1 on validate set: 0.77\n"
     ]
    }
   ],
   "source": [
    "print('Accuracy of Tree 1 on validate set: {:.2f}'.format(clf.score(X_validate, y_validate)))"
   ]
  },
  {
   "cell_type": "markdown",
   "metadata": {},
   "source": [
    "-----"
   ]
  },
  {
   "cell_type": "markdown",
   "metadata": {},
   "source": [
    "Random Forest 1"
   ]
  },
  {
   "cell_type": "code",
   "execution_count": 227,
   "metadata": {},
   "outputs": [],
   "source": [
    "rf = RandomForestClassifier(min_samples_leaf=1, max_depth=3, random_state=342)"
   ]
  },
  {
   "cell_type": "code",
   "execution_count": 228,
   "metadata": {},
   "outputs": [],
   "source": [
    "rf = rf.fit(X_train, y_train)"
   ]
  },
  {
   "cell_type": "code",
   "execution_count": 229,
   "metadata": {},
   "outputs": [
    {
     "data": {
      "text/plain": [
       "(array([0, 0, 0, 0, 0]),\n",
       " array([[0.9188342 , 0.0811658 ],\n",
       "        [0.91375446, 0.08624554],\n",
       "        [0.84903093, 0.15096907],\n",
       "        [0.78594444, 0.21405556],\n",
       "        [0.7673    , 0.2327    ]]))"
      ]
     },
     "execution_count": 229,
     "metadata": {},
     "output_type": "execute_result"
    }
   ],
   "source": [
    "y_pred2 = rf.predict(X_train)\n",
    "y_pred_prob2 = rf.predict_proba(X_train)\n",
    "y_pred2[:5], y_pred_prob2[:5]"
   ]
  },
  {
   "cell_type": "code",
   "execution_count": 230,
   "metadata": {},
   "outputs": [
    {
     "name": "stdout",
     "output_type": "stream",
     "text": [
      " The Accuracy of 'Random Forest 1' is ~0.78\n"
     ]
    }
   ],
   "source": [
    "print(f\" The Accuracy of 'Random Forest 1' is ~{round(rf.score(X_train, y_train), 2)}\")"
   ]
  },
  {
   "cell_type": "code",
   "execution_count": 265,
   "metadata": {},
   "outputs": [
    {
     "data": {
      "text/html": [
       "<div>\n",
       "<style scoped>\n",
       "    .dataframe tbody tr th:only-of-type {\n",
       "        vertical-align: middle;\n",
       "    }\n",
       "\n",
       "    .dataframe tbody tr th {\n",
       "        vertical-align: top;\n",
       "    }\n",
       "\n",
       "    .dataframe thead th {\n",
       "        text-align: right;\n",
       "    }\n",
       "</style>\n",
       "<table border=\"1\" class=\"dataframe\">\n",
       "  <thead>\n",
       "    <tr style=\"text-align: right;\">\n",
       "      <th>col_0</th>\n",
       "      <th>0</th>\n",
       "      <th>1</th>\n",
       "    </tr>\n",
       "    <tr>\n",
       "      <th>churn</th>\n",
       "      <th></th>\n",
       "      <th></th>\n",
       "    </tr>\n",
       "  </thead>\n",
       "  <tbody>\n",
       "    <tr>\n",
       "      <th>0</th>\n",
       "      <td>2960</td>\n",
       "      <td>137</td>\n",
       "    </tr>\n",
       "    <tr>\n",
       "      <th>1</th>\n",
       "      <td>777</td>\n",
       "      <td>344</td>\n",
       "    </tr>\n",
       "  </tbody>\n",
       "</table>\n",
       "</div>"
      ],
      "text/plain": [
       "col_0     0    1\n",
       "churn           \n",
       "0      2960  137\n",
       "1       777  344"
      ]
     },
     "execution_count": 265,
     "metadata": {},
     "output_type": "execute_result"
    }
   ],
   "source": [
    "TP = 344\n",
    "TN = 2960\n",
    "FP = 137\n",
    "FN = 777\n",
    "pd.crosstab(y_train,y_pred2)"
   ]
  },
  {
   "cell_type": "code",
   "execution_count": 266,
   "metadata": {},
   "outputs": [
    {
     "data": {
      "text/html": [
       "<div>\n",
       "<style scoped>\n",
       "    .dataframe tbody tr th:only-of-type {\n",
       "        vertical-align: middle;\n",
       "    }\n",
       "\n",
       "    .dataframe tbody tr th {\n",
       "        vertical-align: top;\n",
       "    }\n",
       "\n",
       "    .dataframe thead th {\n",
       "        text-align: right;\n",
       "    }\n",
       "</style>\n",
       "<table border=\"1\" class=\"dataframe\">\n",
       "  <thead>\n",
       "    <tr style=\"text-align: right;\">\n",
       "      <th></th>\n",
       "      <th>0</th>\n",
       "      <th>1</th>\n",
       "      <th>accuracy</th>\n",
       "      <th>macro avg</th>\n",
       "      <th>weighted avg</th>\n",
       "    </tr>\n",
       "  </thead>\n",
       "  <tbody>\n",
       "    <tr>\n",
       "      <th>precision</th>\n",
       "      <td>0.792079</td>\n",
       "      <td>0.715177</td>\n",
       "      <td>0.78331</td>\n",
       "      <td>0.753628</td>\n",
       "      <td>0.771641</td>\n",
       "    </tr>\n",
       "    <tr>\n",
       "      <th>recall</th>\n",
       "      <td>0.955764</td>\n",
       "      <td>0.306869</td>\n",
       "      <td>0.78331</td>\n",
       "      <td>0.631316</td>\n",
       "      <td>0.783310</td>\n",
       "    </tr>\n",
       "    <tr>\n",
       "      <th>f1-score</th>\n",
       "      <td>0.866257</td>\n",
       "      <td>0.429463</td>\n",
       "      <td>0.78331</td>\n",
       "      <td>0.647860</td>\n",
       "      <td>0.750172</td>\n",
       "    </tr>\n",
       "    <tr>\n",
       "      <th>support</th>\n",
       "      <td>3097.000000</td>\n",
       "      <td>1121.000000</td>\n",
       "      <td>0.78331</td>\n",
       "      <td>4218.000000</td>\n",
       "      <td>4218.000000</td>\n",
       "    </tr>\n",
       "  </tbody>\n",
       "</table>\n",
       "</div>"
      ],
      "text/plain": [
       "                     0            1  accuracy    macro avg  weighted avg\n",
       "precision     0.792079     0.715177   0.78331     0.753628      0.771641\n",
       "recall        0.955764     0.306869   0.78331     0.631316      0.783310\n",
       "f1-score      0.866257     0.429463   0.78331     0.647860      0.750172\n",
       "support    3097.000000  1121.000000   0.78331  4218.000000   4218.000000"
      ]
     },
     "execution_count": 266,
     "metadata": {},
     "output_type": "execute_result"
    }
   ],
   "source": [
    "report = classification_report(y_train, y_pred2, output_dict=True)\n",
    "pd.DataFrame(report)"
   ]
  },
  {
   "cell_type": "code",
   "execution_count": 269,
   "metadata": {},
   "outputs": [
    {
     "name": "stdout",
     "output_type": "stream",
     "text": [
      "accuracy: 78.33%\n",
      "true positive rate / recall: 30.69%\n",
      "true negative rate / Specificity: 95.58%\n",
      "false potivie rate / Percision: 71.52%\n",
      "false negative rate: 79.21%\n",
      "f1-score: 42.95%\n",
      "support: 481\n"
     ]
    }
   ],
   "source": [
    "print(f'accuracy: {met.accuracy_score(train.churn, rf.predict(X_train)):.2%}')\n",
    "print(f'true positive rate / recall: {met.recall_score(train.churn, rf.predict(X_train)):.2%}')\n",
    "print(f'true negative rate / Specificity: {(TN)/(FP+TN):.2%}')\n",
    "print(f'false potivie rate / Percision: {met.precision_score(train.churn, rf.predict(X_train)):.2%}')\n",
    "print(f'false negative rate: {(TN)/(TN+FN):.2%}')\n",
    "print(f'f1-score: {met.f1_score(train.churn, rf.predict(X_train)):.2%}')\n",
    "print(f'support: {rf.predict(X_train).sum()}')"
   ]
  },
  {
   "cell_type": "code",
   "execution_count": 270,
   "metadata": {},
   "outputs": [
    {
     "name": "stdout",
     "output_type": "stream",
     "text": [
      "Accuracy of Random Forest on validate set: 0.77\n"
     ]
    }
   ],
   "source": [
    "print('Accuracy of Random Forest on validate set: {:.2f}'.format(rf.score(X_validate, y_validate)))\n"
   ]
  },
  {
   "cell_type": "markdown",
   "metadata": {},
   "source": [
    "----\n",
    "KNN 1 Distance and Uniform"
   ]
  },
  {
   "cell_type": "code",
   "execution_count": 294,
   "metadata": {},
   "outputs": [],
   "source": [
    "knn = KNeighborsClassifier(n_neighbors=3, weights='distance')\n",
    "knn2 = KNeighborsClassifier(n_neighbors=3, weights='uniform')\n",
    "knn = knn.fit(X_train, y_train)\n",
    "knn2 = knn2.fit(X_train, y_train)"
   ]
  },
  {
   "cell_type": "code",
   "execution_count": 295,
   "metadata": {},
   "outputs": [],
   "source": [
    "y_pred_k = knn.predict(X_train)\n",
    "y_pred_k2 = knn2.predict(X_train)\n",
    "y_pred_proba_k = knn.predict_proba(X_train)\n",
    "y_pred_proba_k2 = knn2.predict_proba(X_train)"
   ]
  },
  {
   "cell_type": "code",
   "execution_count": 320,
   "metadata": {},
   "outputs": [
    {
     "name": "stdout",
     "output_type": "stream",
     "text": [
      "Accuracy of KNN classifier [distance] on training set: 1.00\n",
      "Accuracy of KNN classifier [uniform] on training set: 0.86\n"
     ]
    }
   ],
   "source": [
    "print('Accuracy of KNN classifier [distance] on training set: {:.2f}'.format(knn.score(X_train, y_train)))\n",
    "print('Accuracy of KNN classifier [uniform] on training set: {:.2f}'.format(knn2.score(X_train, y_train)))"
   ]
  },
  {
   "cell_type": "code",
   "execution_count": 297,
   "metadata": {},
   "outputs": [
    {
     "data": {
      "text/html": [
       "<div>\n",
       "<style scoped>\n",
       "    .dataframe tbody tr th:only-of-type {\n",
       "        vertical-align: middle;\n",
       "    }\n",
       "\n",
       "    .dataframe tbody tr th {\n",
       "        vertical-align: top;\n",
       "    }\n",
       "\n",
       "    .dataframe thead th {\n",
       "        text-align: right;\n",
       "    }\n",
       "</style>\n",
       "<table border=\"1\" class=\"dataframe\">\n",
       "  <thead>\n",
       "    <tr style=\"text-align: right;\">\n",
       "      <th>col_0</th>\n",
       "      <th>0</th>\n",
       "      <th>1</th>\n",
       "    </tr>\n",
       "    <tr>\n",
       "      <th>churn</th>\n",
       "      <th></th>\n",
       "      <th></th>\n",
       "    </tr>\n",
       "  </thead>\n",
       "  <tbody>\n",
       "    <tr>\n",
       "      <th>0</th>\n",
       "      <td>3094</td>\n",
       "      <td>3</td>\n",
       "    </tr>\n",
       "    <tr>\n",
       "      <th>1</th>\n",
       "      <td>15</td>\n",
       "      <td>1106</td>\n",
       "    </tr>\n",
       "  </tbody>\n",
       "</table>\n",
       "</div>"
      ],
      "text/plain": [
       "col_0     0     1\n",
       "churn            \n",
       "0      3094     3\n",
       "1        15  1106"
      ]
     },
     "execution_count": 297,
     "metadata": {},
     "output_type": "execute_result"
    }
   ],
   "source": [
    "TP = 1106\n",
    "TN = 3094\n",
    "FP = 3\n",
    "FN = 15\n",
    "pd.crosstab(y_train, y_pred_k)"
   ]
  },
  {
   "cell_type": "code",
   "execution_count": 298,
   "metadata": {},
   "outputs": [
    {
     "data": {
      "text/html": [
       "<div>\n",
       "<style scoped>\n",
       "    .dataframe tbody tr th:only-of-type {\n",
       "        vertical-align: middle;\n",
       "    }\n",
       "\n",
       "    .dataframe tbody tr th {\n",
       "        vertical-align: top;\n",
       "    }\n",
       "\n",
       "    .dataframe thead th {\n",
       "        text-align: right;\n",
       "    }\n",
       "</style>\n",
       "<table border=\"1\" class=\"dataframe\">\n",
       "  <thead>\n",
       "    <tr style=\"text-align: right;\">\n",
       "      <th>col_0</th>\n",
       "      <th>0</th>\n",
       "      <th>1</th>\n",
       "    </tr>\n",
       "    <tr>\n",
       "      <th>churn</th>\n",
       "      <th></th>\n",
       "      <th></th>\n",
       "    </tr>\n",
       "  </thead>\n",
       "  <tbody>\n",
       "    <tr>\n",
       "      <th>0</th>\n",
       "      <td>2886</td>\n",
       "      <td>211</td>\n",
       "    </tr>\n",
       "    <tr>\n",
       "      <th>1</th>\n",
       "      <td>379</td>\n",
       "      <td>742</td>\n",
       "    </tr>\n",
       "  </tbody>\n",
       "</table>\n",
       "</div>"
      ],
      "text/plain": [
       "col_0     0    1\n",
       "churn           \n",
       "0      2886  211\n",
       "1       379  742"
      ]
     },
     "execution_count": 298,
     "metadata": {},
     "output_type": "execute_result"
    }
   ],
   "source": [
    "TP1 = 611\n",
    "TN1 = 2859\n",
    "FP1 = 238\n",
    "FN1 = 510\n",
    "pd.crosstab(y_train, y_pred_k2)"
   ]
  },
  {
   "cell_type": "code",
   "execution_count": 299,
   "metadata": {},
   "outputs": [
    {
     "data": {
      "text/html": [
       "<div>\n",
       "<style scoped>\n",
       "    .dataframe tbody tr th:only-of-type {\n",
       "        vertical-align: middle;\n",
       "    }\n",
       "\n",
       "    .dataframe tbody tr th {\n",
       "        vertical-align: top;\n",
       "    }\n",
       "\n",
       "    .dataframe thead th {\n",
       "        text-align: right;\n",
       "    }\n",
       "</style>\n",
       "<table border=\"1\" class=\"dataframe\">\n",
       "  <thead>\n",
       "    <tr style=\"text-align: right;\">\n",
       "      <th></th>\n",
       "      <th>0</th>\n",
       "      <th>1</th>\n",
       "      <th>accuracy</th>\n",
       "      <th>macro avg</th>\n",
       "      <th>weighted avg</th>\n",
       "    </tr>\n",
       "  </thead>\n",
       "  <tbody>\n",
       "    <tr>\n",
       "      <th>precision</th>\n",
       "      <td>0.995175</td>\n",
       "      <td>0.997295</td>\n",
       "      <td>0.995733</td>\n",
       "      <td>0.996235</td>\n",
       "      <td>0.995739</td>\n",
       "    </tr>\n",
       "    <tr>\n",
       "      <th>recall</th>\n",
       "      <td>0.999031</td>\n",
       "      <td>0.986619</td>\n",
       "      <td>0.995733</td>\n",
       "      <td>0.992825</td>\n",
       "      <td>0.995733</td>\n",
       "    </tr>\n",
       "    <tr>\n",
       "      <th>f1-score</th>\n",
       "      <td>0.997100</td>\n",
       "      <td>0.991928</td>\n",
       "      <td>0.995733</td>\n",
       "      <td>0.994514</td>\n",
       "      <td>0.995725</td>\n",
       "    </tr>\n",
       "    <tr>\n",
       "      <th>support</th>\n",
       "      <td>3097.000000</td>\n",
       "      <td>1121.000000</td>\n",
       "      <td>0.995733</td>\n",
       "      <td>4218.000000</td>\n",
       "      <td>4218.000000</td>\n",
       "    </tr>\n",
       "  </tbody>\n",
       "</table>\n",
       "</div>"
      ],
      "text/plain": [
       "                     0            1  accuracy    macro avg  weighted avg\n",
       "precision     0.995175     0.997295  0.995733     0.996235      0.995739\n",
       "recall        0.999031     0.986619  0.995733     0.992825      0.995733\n",
       "f1-score      0.997100     0.991928  0.995733     0.994514      0.995725\n",
       "support    3097.000000  1121.000000  0.995733  4218.000000   4218.000000"
      ]
     },
     "execution_count": 299,
     "metadata": {},
     "output_type": "execute_result"
    }
   ],
   "source": [
    "report = classification_report(y_train, y_pred_k, output_dict=True)\n",
    "pd.DataFrame(report)"
   ]
  },
  {
   "cell_type": "code",
   "execution_count": 300,
   "metadata": {},
   "outputs": [
    {
     "data": {
      "text/html": [
       "<div>\n",
       "<style scoped>\n",
       "    .dataframe tbody tr th:only-of-type {\n",
       "        vertical-align: middle;\n",
       "    }\n",
       "\n",
       "    .dataframe tbody tr th {\n",
       "        vertical-align: top;\n",
       "    }\n",
       "\n",
       "    .dataframe thead th {\n",
       "        text-align: right;\n",
       "    }\n",
       "</style>\n",
       "<table border=\"1\" class=\"dataframe\">\n",
       "  <thead>\n",
       "    <tr style=\"text-align: right;\">\n",
       "      <th></th>\n",
       "      <th>0</th>\n",
       "      <th>1</th>\n",
       "      <th>accuracy</th>\n",
       "      <th>macro avg</th>\n",
       "      <th>weighted avg</th>\n",
       "    </tr>\n",
       "  </thead>\n",
       "  <tbody>\n",
       "    <tr>\n",
       "      <th>precision</th>\n",
       "      <td>0.883920</td>\n",
       "      <td>0.778594</td>\n",
       "      <td>0.860123</td>\n",
       "      <td>0.831257</td>\n",
       "      <td>0.855928</td>\n",
       "    </tr>\n",
       "    <tr>\n",
       "      <th>recall</th>\n",
       "      <td>0.931870</td>\n",
       "      <td>0.661909</td>\n",
       "      <td>0.860123</td>\n",
       "      <td>0.796889</td>\n",
       "      <td>0.860123</td>\n",
       "    </tr>\n",
       "    <tr>\n",
       "      <th>f1-score</th>\n",
       "      <td>0.907262</td>\n",
       "      <td>0.715526</td>\n",
       "      <td>0.860123</td>\n",
       "      <td>0.811394</td>\n",
       "      <td>0.856305</td>\n",
       "    </tr>\n",
       "    <tr>\n",
       "      <th>support</th>\n",
       "      <td>3097.000000</td>\n",
       "      <td>1121.000000</td>\n",
       "      <td>0.860123</td>\n",
       "      <td>4218.000000</td>\n",
       "      <td>4218.000000</td>\n",
       "    </tr>\n",
       "  </tbody>\n",
       "</table>\n",
       "</div>"
      ],
      "text/plain": [
       "                     0            1  accuracy    macro avg  weighted avg\n",
       "precision     0.883920     0.778594  0.860123     0.831257      0.855928\n",
       "recall        0.931870     0.661909  0.860123     0.796889      0.860123\n",
       "f1-score      0.907262     0.715526  0.860123     0.811394      0.856305\n",
       "support    3097.000000  1121.000000  0.860123  4218.000000   4218.000000"
      ]
     },
     "execution_count": 300,
     "metadata": {},
     "output_type": "execute_result"
    }
   ],
   "source": [
    "report2 = classification_report(y_train, y_pred_k2, output_dict=True)\n",
    "pd.DataFrame(report2)"
   ]
  },
  {
   "cell_type": "code",
   "execution_count": 301,
   "metadata": {},
   "outputs": [
    {
     "name": "stdout",
     "output_type": "stream",
     "text": [
      "accuracy: 99.57%\n",
      "true positive rate / recall: 98.66%\n",
      "true negative rate / Specificity: 99.90%\n",
      "false potivie rate / Percision: 99.73%\n",
      "false negative rate: 99.52%\n",
      "f1-score: 99.19%\n",
      "support: 1109\n"
     ]
    }
   ],
   "source": [
    "print(f'accuracy: {met.accuracy_score(train.churn, knn.predict(X_train)):.2%}')\n",
    "print(f'true positive rate / recall: {met.recall_score(train.churn, knn.predict(X_train)):.2%}')\n",
    "print(f'true negative rate / Specificity: {(TN)/(FP+TN):.2%}')\n",
    "print(f'false potivie rate / Percision: {met.precision_score(train.churn, knn.predict(X_train)):.2%}')\n",
    "print(f'false negative rate: {(TN)/(TN+FN):.2%}')\n",
    "print(f'f1-score: {met.f1_score(train.churn, knn.predict(X_train)):.2%}')\n",
    "print(f'support: {knn.predict(X_train).sum()}')"
   ]
  },
  {
   "cell_type": "code",
   "execution_count": 302,
   "metadata": {},
   "outputs": [
    {
     "name": "stdout",
     "output_type": "stream",
     "text": [
      "accuracy: 86.01%\n",
      "true positive rate / recall: 66.19%\n",
      "true negative rate / Specificity: 92.32%\n",
      "false potivie rate / Percision: 77.86%\n",
      "false negative rate: 84.86%\n",
      "f1-score: 71.55%\n",
      "support: 953\n"
     ]
    }
   ],
   "source": [
    "print(f'accuracy: {met.accuracy_score(train.churn, knn2.predict(X_train)):.2%}')\n",
    "print(f'true positive rate / recall: {met.recall_score(train.churn, knn2.predict(X_train)):.2%}')\n",
    "print(f'true negative rate / Specificity: {(TN1)/(FP1+TN1):.2%}')\n",
    "print(f'false potivie rate / Percision: {met.precision_score(train.churn, knn2.predict(X_train)):.2%}')\n",
    "print(f'false negative rate: {(TN1)/(TN1+FN1):.2%}')\n",
    "print(f'f1-score: {met.f1_score(train.churn, knn2.predict(X_train)):.2%}')\n",
    "print(f'support: {knn2.predict(X_train).sum()}')"
   ]
  },
  {
   "cell_type": "code",
   "execution_count": 303,
   "metadata": {},
   "outputs": [
    {
     "name": "stdout",
     "output_type": "stream",
     "text": [
      "Accuracy of KNN classifier on validate set: 0.76\n"
     ]
    }
   ],
   "source": [
    "# Checking validate on the ~99.81% accuracy model. Is there overfitting?\n",
    "print('Accuracy of KNN classifier on validate set: {:.2f}'.format(knn.score(X_validate, y_validate)))\n",
    "print('Accuracy of KNN classifier on validate set: {:.2f}'.format(knn2.score(X_validate, y_validate)))\n"
   ]
  },
  {
   "cell_type": "code",
   "execution_count": 319,
   "metadata": {},
   "outputs": [
    {
     "name": "stdout",
     "output_type": "stream",
     "text": [
      "Accuracy of KNN classifier on validate set: 0.75\n"
     ]
    }
   ],
   "source": [
    "# what about uniform weight?\n",
    "print('Accuracy of KNN classifier on validate set: {:.2f}'.format(knn2.score(X_validate, y_validate)))\n"
   ]
  },
  {
   "cell_type": "markdown",
   "metadata": {},
   "source": [
    "-----\n",
    "Logistic Regression"
   ]
  },
  {
   "cell_type": "code",
   "execution_count": 246,
   "metadata": {},
   "outputs": [],
   "source": [
    "# df1 = acquire.get_telco_data()"
   ]
  },
  {
   "cell_type": "code",
   "execution_count": 247,
   "metadata": {},
   "outputs": [],
   "source": [
    "# df1['churn_encoded'] = df1.churn.map({'Yes': 1, 'No': 0})\n",
    "# df1['paperless_encoded'] = df1.churn.map({'Yes': 1, 'No': 0})\n",
    "# df1['churn_encoded'] = df1.churn.map({'Yes': 1, 'No': 0})\n",
    "# df1['churn_encoded'] = df1.churn.map({'Yes': 1, 'No': 0})\n",
    "# df1 = df1.drop(columns={'Unnamed: 0', 'customer_id', 'gender', 'paperless_billing', 'senior_citizen', 'partner', 'dependents', 'phone_service', 'multiple_lines', 'online_security', 'online_backup', 'device_protection', 'tech_support', 'streaming_tv', 'streaming_movies', 'total_charges', 'internet_service_type', 'churn_month', 'churn'})\n",
    "# df1 = df1.rename(columns={'churn_encoded' : 'churn', 'paperless_encoded' : 'paperless_billing'})\n",
    "\n"
   ]
  },
  {
   "cell_type": "code",
   "execution_count": 248,
   "metadata": {},
   "outputs": [],
   "source": [
    "# df1.head()"
   ]
  },
  {
   "cell_type": "code",
   "execution_count": 249,
   "metadata": {},
   "outputs": [],
   "source": [
    "#train, validate, test, X_train, y_train, X_validate, y_validate, X_test, y_test = prepare.split_X_y(df1, 'churn')"
   ]
  },
  {
   "cell_type": "code",
   "execution_count": 250,
   "metadata": {},
   "outputs": [],
   "source": [
    "#df.head()"
   ]
  },
  {
   "cell_type": "code",
   "execution_count": 251,
   "metadata": {},
   "outputs": [],
   "source": [
    "#df1 = df.drop(columns={'senior_citizen' ,'online_security_No internet service', 'online_security_Yes', 'online_backup_No internet service', 'online_backup_Yes','total_charges', 'gender_encoded', 'partner_encoded', 'dependents_encoded', 'streaming_tv_Yes', 'streaming_movies_No internet service', 'streaming_movies_Yes', 'internet_service_type_Fiber optic', 'internet_service_type_None', 'phone_service_encoded', 'multiple_lines_No phone service', 'device_protection_No internet service', 'device_protection_Yes', 'tech_support_No internet service', 'tech_support_Yes', 'streaming_tv_No internet service'})"
   ]
  },
  {
   "cell_type": "code",
   "execution_count": 252,
   "metadata": {},
   "outputs": [],
   "source": [
    "#df1.head()"
   ]
  },
  {
   "cell_type": "code",
   "execution_count": 307,
   "metadata": {},
   "outputs": [],
   "source": [
    "logit = LogisticRegression(C=1, random_state=342, class_weight='balanced', intercept_scaling=1)"
   ]
  },
  {
   "cell_type": "code",
   "execution_count": 308,
   "metadata": {},
   "outputs": [],
   "source": [
    "logit = logit.fit(X_train,y_train)"
   ]
  },
  {
   "cell_type": "code",
   "execution_count": 309,
   "metadata": {},
   "outputs": [
    {
     "name": "stdout",
     "output_type": "stream",
     "text": [
      "Coefficient: \n",
      " [[ 0.03084657 -0.19585038 -0.05111777  0.00333096  0.6633465 ]]\n",
      "Intercept: \n",
      " [-0.42916698]\n"
     ]
    }
   ],
   "source": [
    "print('Coefficient: \\n', logit.coef_)\n",
    "print('Intercept: \\n', logit.intercept_)"
   ]
  },
  {
   "cell_type": "code",
   "execution_count": 310,
   "metadata": {},
   "outputs": [],
   "source": [
    "y_pred = logit.predict(X_train)\n",
    "y_pred_proba = logit.predict_proba(X_train)"
   ]
  },
  {
   "cell_type": "code",
   "execution_count": 311,
   "metadata": {},
   "outputs": [
    {
     "name": "stdout",
     "output_type": "stream",
     "text": [
      "Accuracy of Logistic Regression classifier on training set: 0.74\n"
     ]
    }
   ],
   "source": [
    "print('Accuracy of Logistic Regression classifier on training set: {:.2f}'\n",
    "     .format(logit.score(X_train, y_train)))"
   ]
  },
  {
   "cell_type": "code",
   "execution_count": 313,
   "metadata": {},
   "outputs": [
    {
     "data": {
      "text/html": [
       "<div>\n",
       "<style scoped>\n",
       "    .dataframe tbody tr th:only-of-type {\n",
       "        vertical-align: middle;\n",
       "    }\n",
       "\n",
       "    .dataframe tbody tr th {\n",
       "        vertical-align: top;\n",
       "    }\n",
       "\n",
       "    .dataframe thead th {\n",
       "        text-align: right;\n",
       "    }\n",
       "</style>\n",
       "<table border=\"1\" class=\"dataframe\">\n",
       "  <thead>\n",
       "    <tr style=\"text-align: right;\">\n",
       "      <th>col_0</th>\n",
       "      <th>0</th>\n",
       "      <th>1</th>\n",
       "    </tr>\n",
       "    <tr>\n",
       "      <th>churn</th>\n",
       "      <th></th>\n",
       "      <th></th>\n",
       "    </tr>\n",
       "  </thead>\n",
       "  <tbody>\n",
       "    <tr>\n",
       "      <th>0</th>\n",
       "      <td>2278</td>\n",
       "      <td>819</td>\n",
       "    </tr>\n",
       "    <tr>\n",
       "      <th>1</th>\n",
       "      <td>286</td>\n",
       "      <td>835</td>\n",
       "    </tr>\n",
       "  </tbody>\n",
       "</table>\n",
       "</div>"
      ],
      "text/plain": [
       "col_0     0    1\n",
       "churn           \n",
       "0      2278  819\n",
       "1       286  835"
      ]
     },
     "execution_count": 313,
     "metadata": {},
     "output_type": "execute_result"
    }
   ],
   "source": [
    "TP = 835\n",
    "TN = 2278\n",
    "FP = 819\n",
    "FN = 286\n",
    "pd.crosstab(y_train, y_pred)"
   ]
  },
  {
   "cell_type": "code",
   "execution_count": 316,
   "metadata": {},
   "outputs": [
    {
     "name": "stdout",
     "output_type": "stream",
     "text": [
      "              precision    recall  f1-score   support\n",
      "\n",
      "           0       0.89      0.74      0.80      3097\n",
      "           1       0.50      0.74      0.60      1121\n",
      "\n",
      "    accuracy                           0.74      4218\n",
      "   macro avg       0.70      0.74      0.70      4218\n",
      "weighted avg       0.79      0.74      0.75      4218\n",
      "\n"
     ]
    }
   ],
   "source": [
    "print(classification_report(y_train, y_pred))"
   ]
  },
  {
   "cell_type": "code",
   "execution_count": 317,
   "metadata": {},
   "outputs": [
    {
     "name": "stdout",
     "output_type": "stream",
     "text": [
      "accuracy: 73.80%\n",
      "true positive rate / recall: 74.49%\n",
      "true negative rate / Specificity: 73.56%\n",
      "false potivie rate / Percision: 50.48%\n",
      "false negative rate: 88.85%\n",
      "f1-score: 60.18%\n",
      "support: 1654\n"
     ]
    }
   ],
   "source": [
    "print(f'accuracy: {met.accuracy_score(train.churn, logit.predict(X_train)):.2%}')\n",
    "print(f'true positive rate / recall: {met.recall_score(train.churn, logit.predict(X_train)):.2%}')\n",
    "print(f'true negative rate / Specificity: {(TN)/(FP+TN):.2%}')\n",
    "print(f'false potivie rate / Percision: {met.precision_score(train.churn, logit.predict(X_train)):.2%}')\n",
    "print(f'false negative rate: {(TN)/(TN+FN):.2%}')\n",
    "print(f'f1-score: {met.f1_score(train.churn, logit.predict(X_train)):.2%}')\n",
    "print(f'support: {logit.predict(X_train).sum()}')"
   ]
  },
  {
   "cell_type": "code",
   "execution_count": 318,
   "metadata": {},
   "outputs": [
    {
     "name": "stdout",
     "output_type": "stream",
     "text": [
      "Accuracy of Logistic Regression on traing set: 0.72\n"
     ]
    }
   ],
   "source": [
    "print('Accuracy of Logistic Regression on traing set: {:.2f}'.format(logit.score(X_validate, y_validate)))\n"
   ]
  },
  {
   "cell_type": "markdown",
   "metadata": {},
   "source": [
    "------\n",
    "#### Confusion Matrix"
   ]
  },
  {
   "cell_type": "code",
   "execution_count": 255,
   "metadata": {},
   "outputs": [
    {
     "data": {
      "image/png": "[encoded data removed]",
      "text/plain": [
       "<Figure size 432x288 with 2 Axes>"
      ]
     },
     "metadata": {},
     "output_type": "display_data"
    },
    {
     "data": {
      "image/png": "[encoded data removed]",
      "text/plain": [
       "<Figure size 432x288 with 2 Axes>"
      ]
     },
     "metadata": {},
     "output_type": "display_data"
    },
    {
     "data": {
      "image/png": "[encoded data removed]",
      "text/plain": [
       "<Figure size 432x288 with 2 Axes>"
      ]
     },
     "metadata": {},
     "output_type": "display_data"
    }
   ],
   "source": [
    "cm = confusion_matrix(y_train,y_pred)\n",
    "disp = met.ConfusionMatrixDisplay(confusion_matrix=cm, display_labels=clf.classes_)\n",
    "cm2 = confusion_matrix(y_train,y_pred2)\n",
    "disp2 = met.ConfusionMatrixDisplay(confusion_matrix=cm2, display_labels=rf.classes_)\n",
    "cm3 = confusion_matrix(y_train,y_pred_k)\n",
    "disp3 = met.ConfusionMatrixDisplay(confusion_matrix=cm3, display_labels=knn.classes_)\n",
    "\n",
    "disp.plot()\n",
    "disp2.plot()\n",
    "disp3.plot()\n",
    "plt.show()"
   ]
  },
  {
   "cell_type": "markdown",
   "metadata": {},
   "source": [
    "----------\n",
    "#### probability csv creation"
   ]
  },
  {
   "cell_type": "code",
   "execution_count": 256,
   "metadata": {},
   "outputs": [
    {
     "ename": "NameError",
     "evalue": "name 'final_model' is not defined",
     "output_type": "error",
     "traceback": [
      "\u001b[0;31m---------------------------------------------------------------------------\u001b[0m",
      "\u001b[0;31mNameError\u001b[0m                                 Traceback (most recent call last)",
      "\u001b[1;32m/Users/remeny/codeup-data-science/Classification_Project_Part_1/initial_notebook.ipynb Cell 72\u001b[0m in \u001b[0;36m<cell line: 1>\u001b[0;34m()\u001b[0m\n\u001b[0;32m----> <a href='vscode-notebook-cell:/Users/remeny/codeup-data-science/Classification_Project_Part_1/initial_notebook.ipynb#X50sZmlsZQ%3D%3D?line=0'>1</a>\u001b[0m proba_test \u001b[39m=\u001b[39m final_model\u001b[39m.\u001b[39mpredict_proba(X_test)\n\u001b[1;32m      <a href='vscode-notebook-cell:/Users/remeny/codeup-data-science/Classification_Project_Part_1/initial_notebook.ipynb#X50sZmlsZQ%3D%3D?line=1'>2</a>\u001b[0m proba_df \u001b[39m=\u001b[39m pd\u001b[39m.\u001b[39m DataFrame(proba_test, columns\u001b[39m=\u001b[39mfinal_model\u001b[39m.\u001b[39mclasses_\u001b[39m.\u001b[39mtolist())\n\u001b[1;32m      <a href='vscode-notebook-cell:/Users/remeny/codeup-data-science/Classification_Project_Part_1/initial_notebook.ipynb#X50sZmlsZQ%3D%3D?line=2'>3</a>\u001b[0m proba_df\u001b[39m.\u001b[39mhead()\n",
      "\u001b[0;31mNameError\u001b[0m: name 'final_model' is not defined"
     ]
    }
   ],
   "source": [
    "proba_test = final_model.predict_proba(X_test)\n",
    "proba_df = pd. DataFrame(proba_test, columns=final_model.classes_.tolist())\n",
    "proba_df.head()"
   ]
  },
  {
   "cell_type": "code",
   "execution_count": null,
   "metadata": {},
   "outputs": [],
   "source": [
    "reset_test = test.reset_index()\n",
    "reset_test.head()"
   ]
  },
  {
   "cell_type": "code",
   "execution_count": null,
   "metadata": {},
   "outputs": [],
   "source": [
    "test_prob_df = pd.concat([reset_test, proba_df], axis=1)\n",
    "test_prob_df.head()"
   ]
  },
  {
   "cell_type": "code",
   "execution_count": null,
   "metadata": {},
   "outputs": [],
   "source": [
    "test_prob_df['predicted'] = predicted_test\n",
    "test_prob_df.head()"
   ]
  },
  {
   "cell_type": "code",
   "execution_count": null,
   "metadata": {},
   "outputs": [],
   "source": [
    "pred_csv = test_prob_df[['col1', 'col2', 'col3', 'etc', 'predicted']]\n",
    "pred_csv.head()"
   ]
  },
  {
   "cell_type": "code",
   "execution_count": null,
   "metadata": {},
   "outputs": [],
   "source": [
    "pred_csv.to_csv('predictions.csv')"
   ]
  }
 ],
 "metadata": {
  "kernelspec": {
   "display_name": "Python 3.9.12 ('base')",
   "language": "python",
   "name": "python3"
  },
  "language_info": {
   "codemirror_mode": {
    "name": "ipython",
    "version": 3
   },
   "file_extension": ".py",
   "mimetype": "text/x-python",
   "name": "python",
   "nbconvert_exporter": "python",
   "pygments_lexer": "ipython3",
   "version": "3.9.12"
  },
  "orig_nbformat": 4,
  "vscode": {
   "interpreter": {
    "hash": "3067ead486e059ec00ffe7555bdb889e6e264a24dc711bf108106cc7baee8d5d"
   }
  }
 },
 "nbformat": 4,
 "nbformat_minor": 2
}
